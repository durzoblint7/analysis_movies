{
 "cells": [
  {
   "cell_type": "markdown",
   "id": "special-potter",
   "metadata": {},
   "source": [
    "# Desafío Científico de Datos"
   ]
  },
  {
   "cell_type": "code",
   "execution_count": 1,
   "id": "further-element",
   "metadata": {},
   "outputs": [],
   "source": [
    "import pandas as pd\n",
    "import numpy as np\n",
    "import matplotlib.pyplot as plt\n",
    "from sklearn.preprocessing import OrdinalEncoder\n",
    "from IPython.display import display, Math, Latex\n",
    "import ipywidgets as widgets\n",
    "from ipywidgets import interact, interactive, fixed, interact_manual\n",
    "from math import log, floor\n",
    "import seaborn as sns\n",
    "from sklearn.feature_selection import RFE\n",
    "from sklearn.svm import SVR\n",
    "from sklearn.linear_model import LinearRegression\n",
    "from sklearn.model_selection import train_test_split\n",
    "from scipy.stats import chi2_contingency\n",
    "from IPython.display import display\n",
    "import os\n",
    "from sklearn import metrics\n",
    "from sklearn.tree import DecisionTreeClassifier\n",
    "from sklearn.model_selection import train_test_split\n",
    "from sklearn.linear_model import LogisticRegression"
   ]
  },
  {
   "cell_type": "code",
   "execution_count": 2,
   "id": "prerequisite-statistics",
   "metadata": {},
   "outputs": [],
   "source": [
    "file_dataset = \"../movies_data/movies.csv\"\n",
    "data = pd.read_csv(file_dataset, encoding = \"ISO-8859-1\")\n",
    "seed = 2021\n",
    "np.random.seed(seed)\n",
    "BOLD = '\\033[1m'\n",
    "END_BOLD = '\\033[0m'"
   ]
  },
  {
   "cell_type": "markdown",
   "id": "burning-agenda",
   "metadata": {},
   "source": [
    "### Variables de segmentación"
   ]
  },
  {
   "cell_type": "code",
   "execution_count": 3,
   "id": "crude-baker",
   "metadata": {},
   "outputs": [],
   "source": [
    "binding_by_quantiles = True #Si está a false, se segmentarán las variables de presupuestos, beneficios e ingresos\n",
    "                            #con el intervalo que se indique en las siguientes variables\n",
    "k_binding_profits = 25 #expresando en millones. Es decir, el resultado sería: [25M-50M],[50M-75M]...\n",
    "k_binding_gross = 25\n",
    "k_binding_budget = 25\n",
    "\n",
    "format_quantile = True #En caso de mantener la variable binding_by_quantiles a True,\n",
    "                       #se puede elegir entre el formato en percentiles: [0.0,.20],[0.20,0.40]...\n",
    "                       #o el formato con los valores que corresponda\n",
    "k_quantile = 0.20      #el valor de los intervalos entre cuantiles.\n",
    "\n",
    "if k_quantile != 0.05 and k_quantile != 0.1 and k_quantile != 0.25 and k_quantile != 0.20:\n",
    "    k_quantile = 0.20"
   ]
  },
  {
   "cell_type": "markdown",
   "id": "simple-right",
   "metadata": {},
   "source": [
    "# Funciones"
   ]
  },
  {
   "cell_type": "code",
   "execution_count": 4,
   "id": "twelve-deposit",
   "metadata": {},
   "outputs": [],
   "source": [
    "def format_num (num):\n",
    "    return f'{num:,}'\n",
    "\n",
    "def mean_category (df, category_selected, category_to_calculate, name):\n",
    "    means = []\n",
    "    genres = np.unique(df[category_selected])\n",
    "    for g in genres:\n",
    "        mean = df[df[category_selected] == g][category_to_calculate].mean()\n",
    "        mean = round(mean,2)\n",
    "        #mean = format_num(round(mean,2))\n",
    "        means.append(mean)\n",
    "        \n",
    "    list_of_tuples = list(zip(genres, means))\n",
    "\n",
    "    name_column = \"Mean_\" + category_to_calculate\n",
    "    dm = pd.DataFrame(list_of_tuples, columns = [category_selected, name_column]) \n",
    "\n",
    "    return dm\n",
    "\n",
    "def std_category (df, category_selected, category_to_calculate, name):\n",
    "    varncs = []\n",
    "    genres = np.unique(df[category_selected])\n",
    "    for g in genres:\n",
    "        var = df[df[category_selected] == g][category_to_calculate].std()\n",
    "        var = round(var,2)\n",
    "        varncs.append(var)\n",
    "        \n",
    "    list_of_tuples = list(zip(genres, varncs))\n",
    "\n",
    "    name_column = \"std_\" + category_to_calculate\n",
    "    dm = pd.DataFrame(list_of_tuples, columns = [category_selected, name_column]) \n",
    "\n",
    "    return dm\n",
    "\n",
    "def join_df_mean (dm_budget, dm_gross, dm_ben):\n",
    "    dm = dm_budget.copy()\n",
    "    dm[\"Mean_gross\"] = dm_gross[\"Mean_gross\"]\n",
    "    dm[\"Mean_profits\"] = dm_ben[\"Mean_profits\"]\n",
    "    return dm\n",
    "\n",
    "def create_df_of_category (df, category, value):\n",
    "    sub_df = df[df[category] == value].copy()\n",
    "    return sub_df\n",
    "\n",
    "def show_corr_data (df):\n",
    "    corr_data_b = df.corr()\n",
    "    display(corr_data_b)\n",
    "    #plt.matshow(corr_data_b)\n",
    "    plt.figure(figsize=(10,7))\n",
    "    sns.heatmap(corr_data_b, annot=True)\n",
    "    \n",
    "def delete_budget_profits(df):\n",
    "    df.drop(['budget'], axis=1, inplace=True)\n",
    "    df.drop(['budget'], axis=0, inplace=True)\n",
    "    df.drop(['profits'], axis=1, inplace=True)\n",
    "    df.drop(['profits'], axis=0, inplace=True)\n",
    "    return df\n",
    "    \n",
    "def show_corr_data_all (df):\n",
    "    corr_data = df.corr()\n",
    "    display(corr_data)\n",
    "    #plt.matshow(corr_data_b)\n",
    "    plt.figure(figsize=(10,7))\n",
    "    sns.heatmap(corr_data, annot=True)\n",
    "\n",
    "    \n",
    "def human_format(number):\n",
    "    if number == 0:\n",
    "        return \"0M\"\n",
    "    negative = False\n",
    "    if number < 0:\n",
    "        number = number * -1\n",
    "        negative = True\n",
    "\n",
    "    units = ['', 'K', 'M', 'G', 'T', 'P']\n",
    "    k = 1000.0\n",
    "    magnitude = int(floor(log(number, k)))\n",
    "    if negative:\n",
    "        return '-%.0f%s' % (number / k**magnitude, units[magnitude])\n",
    "    else:\n",
    "        return '%.0f%s' % (number / k**magnitude, units[magnitude])\n",
    "\n",
    "def create_dummies(df, var_name):\n",
    "     \n",
    "    dummy_vars = pd.get_dummies(df[var_name], prefix = var_name)\n",
    "    df.drop([var_name], axis = 1, inplace = True)\n",
    "    df = pd.concat([df, dummy_vars], axis = 1)\n",
    "    \n",
    "    return df\n",
    "\n",
    "def create_crosstab_prob(crosstab):\n",
    "    new_crosstab = crosstab.astype('float').div(crosstab.sum(axis=1), axis = 0)\n",
    "    return new_crosstab\n",
    "\n",
    "def create_crosstab(df, category1, category2): \n",
    "    crosstab = pd.crosstab(df[category1], df[category2])\n",
    "    crosstab_prob = create_crosstab_prob(crosstab)\n",
    "    return crosstab, crosstab_prob\n",
    "\n",
    "def select_option(option):\n",
    "    if option == \"Presupuesto\":\n",
    "        x=budget\n",
    "    if option == \"Ingresos\":\n",
    "        x=gross\n",
    "    if option == \"Beneficios\":\n",
    "        x=profits\n",
    "    if option == \"Metraje\":\n",
    "        x=runtime\n",
    "    if option == \"Votos\":\n",
    "        x=votes\n",
    "    if option == \"Puntuación IMDB\":\n",
    "        x=score\n",
    "    return x\n",
    "\n",
    "def evaluate_chi (chi):\n",
    "    if (chi<0.05):\n",
    "        print(BOLD+\"El p-valor es inferior a 0.05 y, por tanto, rechazamos la hipótesis nula. Las dos variables analizadas no son independientes. Podemos afirmar que hay relación entre ellas.\"+END_BOLD)\n",
    "    else:\n",
    "        print(BOLD+\"El p-valor es superior a 0.05 y, por tanto, no podemos rechazar la hipótesis nula. No se puede asegurar la dependencia entre las dos variables estudiadas.\"+END_BOLD)\n",
    "        \n",
    "def compare_med(df, category_calculate, category_select, value_category, max_or_min):\n",
    "    df = create_df_of_category(df,category_select,value_category)\n",
    "    max_ = df[category_calculate].quantile(1.0)\n",
    "    min_ = df[category_calculate].quantile(0.0)/max_\n",
    "    med = df[category_calculate].quantile(0.5)/max_\n",
    "    max_ = max_/max_\n",
    "    if(max_or_min==\"min\"):\n",
    "        print(value_category + \": la diferencia entre la mediana y el mínimo es \" + str(med - min_))\n",
    "        return med - min_\n",
    "    if(max_or_min==\"max\"):\n",
    "        print(value_category + \": la diferencia entre la mediana y el máximo es \" + str(med - min_))\n",
    "        return med - min_\n",
    "        \n",
    "def compare_med_list(df, category_calculate, category, list_values, max_or_min):\n",
    "    dict_ = {}\n",
    "    for lv in list_values:\n",
    "        result = compare_med(df, category_calculate, category, lv, max_or_min)\n",
    "        dict_[lv] = result\n",
    "    print(BOLD+\"Lista ordenada:\"+END_BOLD)\n",
    "    sort_dict(dict_)\n",
    "    \n",
    "    \n",
    "def get_key(val, dict_):\n",
    "    for key, value in dict_.items():\n",
    "         if val == value:\n",
    "                return key\n",
    "\n",
    "def sort_dict(dict_):\n",
    "    val_list = list(dict_.values())\n",
    "    val_list = sorted(val_list, reverse=True)\n",
    "    for i in range(len(val_list)):\n",
    "                   val = val_list[i]\n",
    "                   print(get_key(val, dict_) + \": \" + str(val))\n",
    "                \n",
    "def test_chi (cross):\n",
    "    test_chi2 = chi2_contingency(cross)\n",
    "    print(test_chi2[1])\n",
    "    evaluate_chi(test_chi2[1])\n",
    "    \n",
    "def create_df_with_freq(category, name):\n",
    "    dict_count = data[category].value_counts().to_dict()\n",
    "    df = pd.DataFrame(dict_count.items(), columns=[category, 'num_movies'])\n",
    "    \n",
    "    print(\"Media de películas por \" + name + \": \" + str(df.num_movies.mean()))\n",
    "    print(\"Percentil 75 de las películas por \" + name + \": \" + str(df.num_movies.quantile(0.75)))\n",
    "    print(\"\")\n",
    "    return df\n",
    "\n",
    "'''def addcol():\n",
    "    for index, row in data.iterrows():\n",
    "    if row['name'] == \"Stand by Me\":\n",
    "        data.at[index,'new_column'] = \"ok\"'''\n",
    "\n",
    "\n",
    "\n",
    "def create_df_with_restrictions(df_freq, df, category, limit, name):\n",
    "    \n",
    "    df_new = df.copy()   \n",
    "    df_freq.drop(df_freq[df_freq.num_movies < limit].index, inplace=True)\n",
    "    array_unique = np.unique(df_freq[category]).tolist()\n",
    "    df_new = df_new[df_new[category].isin(array_unique)]\n",
    "    print(\"Número de \" + name + \" que pasan el sesgo: \" + str(len(array_unique)))\n",
    "    print(\"Películas en total para ese sesgo con \" + name + \": \" + str(len(df_new)))\n",
    "    print(\"\")\n",
    "    \n",
    "    return df_new"
   ]
  },
  {
   "cell_type": "markdown",
   "id": "aware-digest",
   "metadata": {},
   "source": [
    "### Funciones para segmentar (data binding)"
   ]
  },
  {
   "cell_type": "code",
   "execution_count": 5,
   "id": "reported-shelf",
   "metadata": {},
   "outputs": [],
   "source": [
    "def create_bins(minb, maxb, k):\n",
    "    return np.arange(minb, maxb, k)\n",
    "\n",
    "def format_bins (bins):\n",
    "    bins_formatted = []\n",
    "    for b in bins:\n",
    "        bins_formatted.append(human_format(b))\n",
    "    return bins_formatted\n",
    "\n",
    "def create_labels (bins, limit):\n",
    "    bins_formatted = format_bins(bins)\n",
    "    names = []\n",
    "    for i in range(len(bins_formatted)):\n",
    "        if (bins[i]<limit):\n",
    "            names.append(\"[\" + bins_formatted[i] + \",\" + bins_formatted[i+1] +\"]\")\n",
    "        \n",
    "    return names\n",
    "\n",
    "def data_binding_profits(k):\n",
    "    k = k*1000000\n",
    "    maxb = 700000000.0\n",
    "    maxb = maxb+k\n",
    "    bins = create_bins(-200000000.0, maxb, k)\n",
    "    names = create_labels(bins, 700000000.0)\n",
    "    \n",
    "    return bins, names\n",
    "\n",
    "def data_binding_gross(k):\n",
    "    k = k*1000000\n",
    "    maxb = 1000000000.0\n",
    "    maxb = maxb+k\n",
    "    bins = create_bins(0.0, maxb, k)\n",
    "    names = create_labels(bins, 1000000000.0)\n",
    "    \n",
    "    return bins, names\n",
    "\n",
    "def data_binding_budget(k):\n",
    "    k = k*1000000\n",
    "    maxb = 400000000.0\n",
    "    maxb = maxb+k\n",
    "    bins = create_bins(0.0, maxb, k)\n",
    "    names = create_labels(bins, 400000000.0)\n",
    "    \n",
    "    return bins, names\n",
    "\n",
    "def create_labels_quantiles(bins, limit):\n",
    "    names = []\n",
    "    for i in range(len(bins)):\n",
    "        if (bins[i]<limit):\n",
    "            num1 = format_num(round(bins[i],2))\n",
    "            num2 = format_num(round(bins[i+1],2))\n",
    "            names.append(\"[\" + str(num1) + \", \" + str(num2) +\"]\")\n",
    "        \n",
    "    return names\n",
    "\n",
    "def data_binding_quantiles(df, k, category):\n",
    "    array_to_binding = create_bins(0.0, 1.0+k, k)\n",
    "    quantiles = []\n",
    "    for i in array_to_binding:\n",
    "        quantiles.append(df[category].quantile(i))\n",
    "        \n",
    "    if(format_quantile==False):\n",
    "        names = create_labels_quantiles(quantiles, df[category].quantile(1.0))\n",
    "    else:\n",
    "        names = create_labels_quantiles(array_to_binding, 1.0)\n",
    "    \n",
    "    return quantiles, names"
   ]
  },
  {
   "cell_type": "markdown",
   "id": "manual-repair",
   "metadata": {},
   "source": [
    "# Descripción del conjunto de datos\n",
    "Este es un conjunto de datos que recoge información sobre el mundo del cine para poder analizarlo en profundidad. **Tipo de cuestiones a responder**:\n",
    "* ¿En qué género debería enfocarse la industria?\n",
    "* ¿Cómo de importante es producir una buena película (nota en IMDB) para obtener muchos ingresos?\n",
    "* ¿Es mejor producir una película para todos los públicos o una dirigida sólo al público adulto?\n",
    "* ¿Hay algún actor que garantice el éxito de la película? ¿Y director?\n",
    "\n",
    "A continuación, se definen las **clases del conjunto de datos**:\n",
    "* **Budget**: presupuesto de la película (algunas no lo tienen)\n",
    "* **Company**: la compañía de la película\n",
    "* **Country**: país de origen\n",
    "* **Director**: director de la película\n",
    "* **Genre**: género cinematográfico\n",
    "* **Gross**: ingresos generados\n",
    "* **Name**: título de la película\n",
    "* **Rating**: restricción de edad\n",
    "* **Released**: fecha de estreno\n",
    "* **Runtime**: tiempo de metraje de la película\n",
    "* **Score**: nota media de las votaciones de los usuarios de IMDB\n",
    "* **Votes**: número de votos\n",
    "* **Star**: actor o actriz principal\n",
    "* **Writer**: guionista de la película\n",
    "* **Year**: año de estreno"
   ]
  },
  {
   "cell_type": "code",
   "execution_count": 6,
   "id": "automated-simon",
   "metadata": {},
   "outputs": [],
   "source": [
    "budget = \"budget\"\n",
    "company = \"company\"\n",
    "country = \"country\"\n",
    "director = \"director\"\n",
    "genre = \"genre\"\n",
    "gross = \"gross\"\n",
    "title = \"name\"\n",
    "rating = \"rating\"\n",
    "released = \"realased\"\n",
    "runtime = \"runtime\"\n",
    "score = \"score\"\n",
    "star = \"star\"\n",
    "votes = \"votes\"\n",
    "writer = \"writer\"\n",
    "year = \"year\"\n",
    "profits = \"profits\"\n",
    "cost_effectiveness = \"ceff\"\n",
    "month = \"month_release\"\n",
    "profits_binding = \"profits_binding\"\n",
    "gross_binding = \"gross_binding\"\n",
    "budget_binding = \"budget_binding\""
   ]
  },
  {
   "cell_type": "code",
   "execution_count": 7,
   "id": "innocent-particular",
   "metadata": {
    "scrolled": false
   },
   "outputs": [
    {
     "data": {
      "application/vnd.jupyter.widget-view+json": {
       "model_id": "4dc3af6526864132a3f9f04941a10830",
       "version_major": 2,
       "version_minor": 0
      },
      "text/plain": [
       "interactive(children=(Dropdown(description='Option', options=('Head', 'Tail'), value='Head'), Dropdown(descrip…"
      ]
     },
     "metadata": {},
     "output_type": "display_data"
    }
   ],
   "source": [
    "data.head(10)\n",
    "\n",
    "def show_dataframe(Option, Items):\n",
    "    if(Option == \"Head\"):\n",
    "        display(data.head(Items))\n",
    "        \n",
    "    if(Option == \"Tail\"):\n",
    "        display(data.tail(Items))\n",
    "        \n",
    "interact(show_dataframe, Option=[\"Head\", \"Tail\"], Items=[5,10,50,100]);"
   ]
  },
  {
   "cell_type": "markdown",
   "id": "spread-ethernet",
   "metadata": {},
   "source": [
    "### Dimensiones"
   ]
  },
  {
   "cell_type": "code",
   "execution_count": 8,
   "id": "crucial-trinity",
   "metadata": {
    "scrolled": true
   },
   "outputs": [
    {
     "name": "stdout",
     "output_type": "stream",
     "text": [
      "Número de muestras: 6820\n",
      "Número de clases: 15\n"
     ]
    }
   ],
   "source": [
    "def dim_data (df):\n",
    "    print(\"Número de muestras: \" + str(df.shape[0]))\n",
    "    print(\"Número de clases: \" + str(df.shape[1]))\n",
    "\n",
    "dim_data(data)"
   ]
  },
  {
   "cell_type": "code",
   "execution_count": 9,
   "id": "spread-copper",
   "metadata": {},
   "outputs": [],
   "source": [
    "classes = data.columns.values"
   ]
  },
  {
   "cell_type": "code",
   "execution_count": 10,
   "id": "sensitive-overhead",
   "metadata": {},
   "outputs": [
    {
     "name": "stdout",
     "output_type": "stream",
     "text": [
      "No hay valores nulos en este conjunto de datos.\n"
     ]
    }
   ],
   "source": [
    "def total_null_in_class (df, c):\n",
    "    return pd.isnull(df[c]).values.ravel().sum()\n",
    "\n",
    "\n",
    "def total_null (df, classes):\n",
    "    null_found = False\n",
    "    for c in classes:\n",
    "        n_nulls = total_null_in_class(df, c)\n",
    "        if (n_nulls != 0):\n",
    "            print(\"Hay \" + str(n_nulls) + \" valores nulos en la clase \" + c + \".\")\n",
    "            null_found = True\n",
    "    if(null_found == False):\n",
    "        print(\"No hay valores nulos en este conjunto de datos.\")\n",
    "        \n",
    "total_null(data, classes)"
   ]
  },
  {
   "cell_type": "markdown",
   "id": "infrared-elements",
   "metadata": {},
   "source": [
    "### El problema de los beneficios\n",
    "Este conjunto de datos se ha obtenido del portal IMDB y, tal y como recogen allí, la variable \"budget\" (presupuesto) sólo incluye los costes de producción.\n",
    "\n",
    "**A continuación, se creará una nueva columna, la resta de Budget y Gross: Profits.**"
   ]
  },
  {
   "cell_type": "code",
   "execution_count": 11,
   "id": "alpine-system",
   "metadata": {},
   "outputs": [],
   "source": [
    "data[profits] = data[gross] - data[budget]"
   ]
  },
  {
   "cell_type": "code",
   "execution_count": 12,
   "id": "essential-knight",
   "metadata": {},
   "outputs": [
    {
     "data": {
      "application/vnd.jupyter.widget-view+json": {
       "model_id": "bd02c330f07141f2ace7c5d0f52649ff",
       "version_major": 2,
       "version_minor": 0
      },
      "text/plain": [
       "interactive(children=(Checkbox(value=False, description='Muestra'), Output()), _dom_classes=('widget-interact'…"
      ]
     },
     "metadata": {},
     "output_type": "display_data"
    }
   ],
   "source": [
    "@interact(Muestra=False)\n",
    "def g(Muestra):\n",
    "    if(Muestra==True):\n",
    "        display(data.head(5))\n",
    "    else:\n",
    "        print(\" \")"
   ]
  },
  {
   "cell_type": "markdown",
   "id": "opening-glass",
   "metadata": {},
   "source": [
    "### Definición de la columna \"month_release\" para indicar el mes del estreno"
   ]
  },
  {
   "cell_type": "code",
   "execution_count": 13,
   "id": "diagnostic-tonight",
   "metadata": {},
   "outputs": [],
   "source": [
    "data[month] = pd.DatetimeIndex(data['released']).month\n",
    "data[month].replace({1: \"January\",\n",
    "                     2: \"February\",\n",
    "                     3: \"March\",\n",
    "                     4: \"April\",\n",
    "                     5: \"May\",\n",
    "                     6: \"June\",\n",
    "                     7: \"July\",\n",
    "                     8: \"August\",\n",
    "                     9: \"September\",\n",
    "                     10: \"October\",\n",
    "                     11: \"November\",\n",
    "                     12: \"December\"}, inplace=True)"
   ]
  },
  {
   "cell_type": "code",
   "execution_count": 14,
   "id": "respective-collins",
   "metadata": {},
   "outputs": [],
   "source": [
    "data[\"day_release\"] = pd.DatetimeIndex(data['released']).day"
   ]
  },
  {
   "cell_type": "code",
   "execution_count": 15,
   "id": "later-potential",
   "metadata": {},
   "outputs": [
    {
     "data": {
      "application/vnd.jupyter.widget-view+json": {
       "model_id": "0e37fbbcced84e94afd2aae417190e73",
       "version_major": 2,
       "version_minor": 0
      },
      "text/plain": [
       "interactive(children=(Checkbox(value=False, description='Muestra'), Output()), _dom_classes=('widget-interact'…"
      ]
     },
     "metadata": {},
     "output_type": "display_data"
    }
   ],
   "source": [
    "@interact(Muestra=False)\n",
    "def g(Muestra):\n",
    "    if(Muestra==True):\n",
    "        display(data.head(5))\n",
    "    else:\n",
    "        print(\" \")"
   ]
  },
  {
   "cell_type": "markdown",
   "id": "nearby-banana",
   "metadata": {},
   "source": [
    "### Ajuste de las clasificaciones por edad"
   ]
  },
  {
   "cell_type": "code",
   "execution_count": 16,
   "id": "silver-headline",
   "metadata": {},
   "outputs": [
    {
     "data": {
      "text/plain": [
       "array(['B', 'B15', 'G', 'NC-17', 'NOT RATED', 'Not specified', 'PG',\n",
       "       'PG-13', 'R', 'TV-14', 'TV-MA', 'TV-PG', 'UNRATED'], dtype=object)"
      ]
     },
     "execution_count": 16,
     "metadata": {},
     "output_type": "execute_result"
    }
   ],
   "source": [
    "ratings = np.unique(data[rating])\n",
    "ratings"
   ]
  },
  {
   "cell_type": "markdown",
   "id": "nearby-advocacy",
   "metadata": {},
   "source": [
    "Se observa en la lista anterior que no hay una regla para definir las clasificaciones. En Estados Unidos se propone:\n",
    "* G: todos los públicos\n",
    "* PG: mayores de 10 años o menores de 10 años acompañados\n",
    "* PG-13: no recomendado para menores de 13 años\n",
    "* R: no recomendado para menores de 17 años\n",
    "* NC-17: prohibido para menores de 18 años\n",
    "* NR: desconocido"
   ]
  },
  {
   "cell_type": "markdown",
   "id": "caring-blake",
   "metadata": {},
   "source": [
    "**El conjunto de datos tiene más clasificaciones (algunas redundantes) y se ha decidido realizar algunos cambios:**\n",
    "* 'NOT RATED', 'NOT SPECIFIED' Y 'UNRATED' pasarán a la clasificación NR.\n",
    "* Se considerará la clasificación NC-17 como R.\n",
    "* La clasificación B (no recomendada para menores de 12 años) pasará a ser P-13.\n",
    "* La clasificación B15 (no recomendada para menores de 15 años) pasará a ser R (las películas con clasificación B15 en México suelen tener la clasificación R en Estados Unidos).\n",
    "* La clasificación TV-MA es para adultos, es decir, se englobará dentro de R y NC-17.\n",
    "* La clasificación TV-PG pasará a ser PG.\n",
    "* La clasificación TV-14 es equivalente a B15 y pasará a R."
   ]
  },
  {
   "cell_type": "code",
   "execution_count": 17,
   "id": "wired-venice",
   "metadata": {},
   "outputs": [
    {
     "data": {
      "text/plain": [
       "array(['G', 'NR', 'PG', 'PG-13', 'R'], dtype=object)"
      ]
     },
     "execution_count": 17,
     "metadata": {},
     "output_type": "execute_result"
    }
   ],
   "source": [
    "def replace_values (df, column, old_value, new_value):\n",
    "    df[column] = np.where(df[column] == old_value, new_value, df[column])\n",
    "\n",
    "replace_values(data, rating, 'NOT RATED', 'NR')\n",
    "replace_values(data, rating, 'Not specified', 'NR')\n",
    "replace_values(data, rating, 'UNRATED', 'NR')\n",
    "replace_values(data, rating, 'NC-17', 'R')\n",
    "replace_values(data, rating, 'B', 'PG-13')\n",
    "replace_values(data, rating, 'B15', 'R')\n",
    "replace_values(data, rating, 'TV-MA', 'R')\n",
    "replace_values(data, rating, 'TV-MA', 'R')\n",
    "replace_values(data, rating, 'TV-PG', 'PG')\n",
    "replace_values(data, rating, 'TV-14', 'R')\n",
    "ratings = np.unique(data[rating])\n",
    "ratings"
   ]
  },
  {
   "cell_type": "code",
   "execution_count": 18,
   "id": "supreme-franklin",
   "metadata": {},
   "outputs": [
    {
     "data": {
      "application/vnd.jupyter.widget-view+json": {
       "model_id": "22fa188da418447cbc3b211207ec34db",
       "version_major": 2,
       "version_minor": 0
      },
      "text/plain": [
       "interactive(children=(Checkbox(value=False, description='Muestra'), Output()), _dom_classes=('widget-interact'…"
      ]
     },
     "metadata": {},
     "output_type": "display_data"
    }
   ],
   "source": [
    "@interact(Muestra=False)\n",
    "def g(Muestra):\n",
    "    if(Muestra==True):\n",
    "        display(data.head(5))\n",
    "    else:\n",
    "        print(\" \")"
   ]
  },
  {
   "cell_type": "markdown",
   "id": "seventh-spokesman",
   "metadata": {},
   "source": [
    "# Valores desconocidos en la clase Budget\n",
    "En este apartado se creará un nuevo dataframe con todas las filas cuyo valor en la categoría Budget sea 0.0 borradas:"
   ]
  },
  {
   "cell_type": "code",
   "execution_count": 19,
   "id": "ultimate-tyler",
   "metadata": {},
   "outputs": [
    {
     "name": "stdout",
     "output_type": "stream",
     "text": [
      "Número de valores desconocidos en la clase Budget: 2182\n"
     ]
    }
   ],
   "source": [
    "values_budget = data[budget].value_counts().to_dict()\n",
    "print(\"Número de valores desconocidos en la clase Budget: \" + str(values_budget[0.0]))"
   ]
  },
  {
   "cell_type": "code",
   "execution_count": 20,
   "id": "departmental-fighter",
   "metadata": {},
   "outputs": [
    {
     "name": "stdout",
     "output_type": "stream",
     "text": [
      "Hay 2182 valores nulos en la clase budget.\n"
     ]
    }
   ],
   "source": [
    "data.replace(0, np.nan, inplace=True)\n",
    "total_null(data, classes)"
   ]
  },
  {
   "cell_type": "code",
   "execution_count": 21,
   "id": "developing-weight",
   "metadata": {},
   "outputs": [
    {
     "name": "stdout",
     "output_type": "stream",
     "text": [
      "No hay valores nulos en este conjunto de datos.\n",
      "Número de muestras: 4638\n",
      "Número de clases: 18\n"
     ]
    }
   ],
   "source": [
    "data.dropna(axis=0, how=\"any\", inplace=True)\n",
    "total_null(data, classes)\n",
    "dim_data(data)"
   ]
  },
  {
   "cell_type": "markdown",
   "id": "amino-annual",
   "metadata": {},
   "source": [
    "# Clasificación NR"
   ]
  },
  {
   "cell_type": "code",
   "execution_count": 22,
   "id": "detected-efficiency",
   "metadata": {},
   "outputs": [
    {
     "data": {
      "text/html": [
       "<div>\n",
       "<style scoped>\n",
       "    .dataframe tbody tr th:only-of-type {\n",
       "        vertical-align: middle;\n",
       "    }\n",
       "\n",
       "    .dataframe tbody tr th {\n",
       "        vertical-align: top;\n",
       "    }\n",
       "\n",
       "    .dataframe thead th {\n",
       "        text-align: right;\n",
       "    }\n",
       "</style>\n",
       "<table border=\"1\" class=\"dataframe\">\n",
       "  <thead>\n",
       "    <tr style=\"text-align: right;\">\n",
       "      <th></th>\n",
       "      <th>rating</th>\n",
       "      <th>Mean_budget</th>\n",
       "      <th>Mean_gross</th>\n",
       "      <th>Mean_profits</th>\n",
       "    </tr>\n",
       "  </thead>\n",
       "  <tbody>\n",
       "    <tr>\n",
       "      <th>0</th>\n",
       "      <td>G</td>\n",
       "      <td>55168000.00</td>\n",
       "      <td>85715180.17</td>\n",
       "      <td>30547180.17</td>\n",
       "    </tr>\n",
       "    <tr>\n",
       "      <th>1</th>\n",
       "      <td>NR</td>\n",
       "      <td>5243903.18</td>\n",
       "      <td>977109.37</td>\n",
       "      <td>-4266793.81</td>\n",
       "    </tr>\n",
       "    <tr>\n",
       "      <th>2</th>\n",
       "      <td>PG</td>\n",
       "      <td>48565963.58</td>\n",
       "      <td>66504308.76</td>\n",
       "      <td>17938345.18</td>\n",
       "    </tr>\n",
       "    <tr>\n",
       "      <th>3</th>\n",
       "      <td>PG-13</td>\n",
       "      <td>49090238.31</td>\n",
       "      <td>63195728.30</td>\n",
       "      <td>14105490.00</td>\n",
       "    </tr>\n",
       "    <tr>\n",
       "      <th>4</th>\n",
       "      <td>R</td>\n",
       "      <td>23566731.49</td>\n",
       "      <td>27742669.41</td>\n",
       "      <td>4175937.92</td>\n",
       "    </tr>\n",
       "  </tbody>\n",
       "</table>\n",
       "</div>"
      ],
      "text/plain": [
       "  rating  Mean_budget   Mean_gross  Mean_profits\n",
       "0      G  55168000.00  85715180.17   30547180.17\n",
       "1     NR   5243903.18    977109.37   -4266793.81\n",
       "2     PG  48565963.58  66504308.76   17938345.18\n",
       "3  PG-13  49090238.31  63195728.30   14105490.00\n",
       "4      R  23566731.49  27742669.41    4175937.92"
      ]
     },
     "execution_count": 22,
     "metadata": {},
     "output_type": "execute_result"
    }
   ],
   "source": [
    "data_NR = data.copy()\n",
    "dm_budget = mean_category(data_NR, rating, budget, \"presupuesto\")\n",
    "dm_gross = mean_category(data_NR, rating, gross, \"ingresos\")\n",
    "dm_ben = mean_category(data_NR, rating, profits, \"beneficios\")\n",
    "\n",
    "dm_rating = join_df_mean (dm_budget, dm_gross, dm_ben)\n",
    "dm_rating"
   ]
  },
  {
   "cell_type": "markdown",
   "id": "atomic-liabilities",
   "metadata": {},
   "source": [
    "**Nota**: los valores de las películas con clasificación NR son muy bajos."
   ]
  },
  {
   "cell_type": "code",
   "execution_count": 23,
   "id": "electronic-standard",
   "metadata": {},
   "outputs": [
    {
     "data": {
      "application/vnd.jupyter.widget-view+json": {
       "model_id": "cbd728643dfe427cafd14380358f7710",
       "version_major": 2,
       "version_minor": 0
      },
      "text/plain": [
       "interactive(children=(Dropdown(description='Rating', options=('G', 'NR', 'PG', 'PG-13', 'R'), value='G'), Outp…"
      ]
     },
     "metadata": {},
     "output_type": "display_data"
    }
   ],
   "source": [
    "def show_corr_rating_NR(Rating):\n",
    "    data_corr_rating = create_df_of_category(data_NR, rating, Rating)\n",
    "    show_corr_data(data_corr_rating)\n",
    "    \n",
    "ratings = np.unique(data_NR[rating])\n",
    "interact(show_corr_rating_NR, Rating=ratings);"
   ]
  },
  {
   "cell_type": "markdown",
   "id": "basic-fortune",
   "metadata": {},
   "source": [
    "**Nota**: los valores del coeficiente de Pearson varían mucho de la clasificación NR al resto de clasificaciones por edad."
   ]
  },
  {
   "cell_type": "code",
   "execution_count": 24,
   "id": "contrary-female",
   "metadata": {},
   "outputs": [
    {
     "data": {
      "image/png": "[encoded data removed]",
      "text/plain": [
       "<Figure size 432x288 with 1 Axes>"
      ]
     },
     "metadata": {
      "needs_background": "light"
     },
     "output_type": "display_data"
    }
   ],
   "source": [
    "plot = data[rating].value_counts().plot(kind='bar', title='Clasificaciones por edad', color=\"r\")"
   ]
  },
  {
   "cell_type": "markdown",
   "id": "occupied-moses",
   "metadata": {},
   "source": [
    "**Nota: Se ha decidido eliminar las películas con clasificación NR para que no empañen los resultados. Los datos de estas películas son muy diferentes al resto y, además, la muestra es muy pequeña.**"
   ]
  },
  {
   "cell_type": "code",
   "execution_count": 25,
   "id": "olive-pantyhose",
   "metadata": {},
   "outputs": [
    {
     "data": {
      "text/plain": [
       "array(['G', 'PG', 'PG-13', 'R'], dtype=object)"
      ]
     },
     "execution_count": 25,
     "metadata": {},
     "output_type": "execute_result"
    }
   ],
   "source": [
    "data.drop(data[data.rating == 'NR'].index, inplace=True)\n",
    "ratings = np.unique(data[rating])\n",
    "ratings"
   ]
  },
  {
   "cell_type": "code",
   "execution_count": 26,
   "id": "physical-elizabeth",
   "metadata": {},
   "outputs": [],
   "source": [
    "encoder = OrdinalEncoder(categories=[[\"G\", \"PG\", \"PG-13\", \"R\"]])\n",
    "\n",
    "encoder.fit(data[[rating]])\n",
    "data[\"rating_encoded\"] = encoder.transform(data[[rating]])"
   ]
  },
  {
   "cell_type": "markdown",
   "id": "driving-satin",
   "metadata": {},
   "source": [
    "# Inflación\n",
    "El período que abarcan las películas es muy amplio, así que se han relativizado los valores del dólar en función del valor que tiene en 2021."
   ]
  },
  {
   "cell_type": "code",
   "execution_count": 27,
   "id": "instrumental-precipitation",
   "metadata": {},
   "outputs": [],
   "source": [
    "dict_infl={}\n",
    "dict_infl[\"1986\"]=2.38\n",
    "dict_infl[\"1987\"]=2.36\n",
    "dict_infl[\"1988\"]=2.26\n",
    "dict_infl[\"1989\"]=2.16\n",
    "dict_infl[\"1990\"]=2.07\n",
    "dict_infl[\"1991\"]=1.95\n",
    "dict_infl[\"1992\"]=1.89\n",
    "dict_infl[\"1993\"]=1.84\n",
    "dict_infl[\"1994\"]=1.79\n",
    "dict_infl[\"1995\"]=1.74\n",
    "dict_infl[\"1996\"]=1.7\n",
    "dict_infl[\"1997\"]=1.64\n",
    "dict_infl[\"1998\"]=1.61\n",
    "dict_infl[\"1999\"]=1.59\n",
    "dict_infl[\"2000\"]=1.55\n",
    "dict_infl[\"2001\"]=1.5\n",
    "dict_infl[\"2002\"]=1.47\n",
    "dict_infl[\"2003\"]=1.44\n",
    "dict_infl[\"2004\"]=1.41\n",
    "dict_infl[\"2005\"]=1.37\n",
    "dict_infl[\"2006\"]=1.32\n",
    "dict_infl[\"2007\"]=1.29\n",
    "dict_infl[\"2008\"]=1.24\n",
    "dict_infl[\"2009\"]=1.24\n",
    "dict_infl[\"2010\"]=1.21\n",
    "dict_infl[\"2011\"]=1.19\n",
    "dict_infl[\"2012\"]=1.15\n",
    "dict_infl[\"2013\"]=1.13\n",
    "dict_infl[\"2014\"]=1.12\n",
    "dict_infl[\"2015\"]=1.11\n",
    "dict_infl[\"2016\"]=1.1\n",
    "years = np.unique(data[year])\n",
    "data[\"infl\"] = data[\"year\"]\n",
    "for y in years:\n",
    "    data.loc[(data.year == y),'infl'] = dict_infl[str(y)]\n",
    "    \n",
    "data[\"budget\"] = data[\"budget\"] * data[\"infl\"]\n",
    "data[\"profits\"] = data[\"profits\"] * data[\"infl\"]\n",
    "data[\"gross\"] = data[\"gross\"] * data[\"infl\"]\n",
    "data.drop('infl', inplace=True, axis=1)"
   ]
  },
  {
   "cell_type": "code",
   "execution_count": 28,
   "id": "quality-newcastle",
   "metadata": {},
   "outputs": [
    {
     "data": {
      "text/html": [
       "<div>\n",
       "<style scoped>\n",
       "    .dataframe tbody tr th:only-of-type {\n",
       "        vertical-align: middle;\n",
       "    }\n",
       "\n",
       "    .dataframe tbody tr th {\n",
       "        vertical-align: top;\n",
       "    }\n",
       "\n",
       "    .dataframe thead th {\n",
       "        text-align: right;\n",
       "    }\n",
       "</style>\n",
       "<table border=\"1\" class=\"dataframe\">\n",
       "  <thead>\n",
       "    <tr style=\"text-align: right;\">\n",
       "      <th></th>\n",
       "      <th>budget</th>\n",
       "      <th>company</th>\n",
       "      <th>country</th>\n",
       "      <th>director</th>\n",
       "      <th>genre</th>\n",
       "      <th>gross</th>\n",
       "      <th>name</th>\n",
       "      <th>rating</th>\n",
       "      <th>released</th>\n",
       "      <th>runtime</th>\n",
       "      <th>score</th>\n",
       "      <th>star</th>\n",
       "      <th>votes</th>\n",
       "      <th>writer</th>\n",
       "      <th>year</th>\n",
       "      <th>profits</th>\n",
       "      <th>month_release</th>\n",
       "      <th>day_release</th>\n",
       "      <th>rating_encoded</th>\n",
       "    </tr>\n",
       "  </thead>\n",
       "  <tbody>\n",
       "    <tr>\n",
       "      <th>6808</th>\n",
       "      <td>3300000.0</td>\n",
       "      <td>Westerly Films</td>\n",
       "      <td>Ireland</td>\n",
       "      <td>Whit Stillman</td>\n",
       "      <td>Comedy</td>\n",
       "      <td>15414920.4</td>\n",
       "      <td>Love &amp; Friendship</td>\n",
       "      <td>PG</td>\n",
       "      <td>2016-06-03</td>\n",
       "      <td>90</td>\n",
       "      <td>6.5</td>\n",
       "      <td>Kate Beckinsale</td>\n",
       "      <td>17862</td>\n",
       "      <td>Whit Stillman</td>\n",
       "      <td>2016</td>\n",
       "      <td>12114920.4</td>\n",
       "      <td>June</td>\n",
       "      <td>3</td>\n",
       "      <td>1.0</td>\n",
       "    </tr>\n",
       "    <tr>\n",
       "      <th>6809</th>\n",
       "      <td>4180000.0</td>\n",
       "      <td>Sycamore Pictures</td>\n",
       "      <td>USA</td>\n",
       "      <td>John Krasinski</td>\n",
       "      <td>Comedy</td>\n",
       "      <td>1118559.2</td>\n",
       "      <td>The Hollars</td>\n",
       "      <td>PG-13</td>\n",
       "      <td>2016-08-26</td>\n",
       "      <td>88</td>\n",
       "      <td>6.5</td>\n",
       "      <td>Sharlto Copley</td>\n",
       "      <td>7227</td>\n",
       "      <td>Jim Strouse</td>\n",
       "      <td>2016</td>\n",
       "      <td>-3061440.8</td>\n",
       "      <td>August</td>\n",
       "      <td>26</td>\n",
       "      <td>2.0</td>\n",
       "    </tr>\n",
       "    <tr>\n",
       "      <th>6811</th>\n",
       "      <td>9350000.0</td>\n",
       "      <td>CBS Films</td>\n",
       "      <td>USA</td>\n",
       "      <td>Steve Carr</td>\n",
       "      <td>Animation</td>\n",
       "      <td>21983715.6</td>\n",
       "      <td>Middle School: The Worst Years of My Life</td>\n",
       "      <td>PG</td>\n",
       "      <td>2016-10-07</td>\n",
       "      <td>92</td>\n",
       "      <td>6.1</td>\n",
       "      <td>Griffin Gluck</td>\n",
       "      <td>4556</td>\n",
       "      <td>Chris Bowman</td>\n",
       "      <td>2016</td>\n",
       "      <td>12633715.6</td>\n",
       "      <td>October</td>\n",
       "      <td>7</td>\n",
       "      <td>1.0</td>\n",
       "    </tr>\n",
       "    <tr>\n",
       "      <th>6814</th>\n",
       "      <td>22000000.0</td>\n",
       "      <td>LD Entertainment</td>\n",
       "      <td>USA</td>\n",
       "      <td>Kevin Reynolds</td>\n",
       "      <td>Action</td>\n",
       "      <td>40562219.5</td>\n",
       "      <td>Risen</td>\n",
       "      <td>PG-13</td>\n",
       "      <td>2016-02-19</td>\n",
       "      <td>107</td>\n",
       "      <td>6.3</td>\n",
       "      <td>Joseph Fiennes</td>\n",
       "      <td>19084</td>\n",
       "      <td>Kevin Reynolds</td>\n",
       "      <td>2016</td>\n",
       "      <td>18562219.5</td>\n",
       "      <td>February</td>\n",
       "      <td>19</td>\n",
       "      <td>2.0</td>\n",
       "    </tr>\n",
       "    <tr>\n",
       "      <th>6817</th>\n",
       "      <td>3850000.0</td>\n",
       "      <td>Warner Bros. Animation</td>\n",
       "      <td>USA</td>\n",
       "      <td>Sam Liu</td>\n",
       "      <td>Animation</td>\n",
       "      <td>4152500.0</td>\n",
       "      <td>Batman: The Killing Joke</td>\n",
       "      <td>R</td>\n",
       "      <td>2016-07-25</td>\n",
       "      <td>76</td>\n",
       "      <td>6.5</td>\n",
       "      <td>Kevin Conroy</td>\n",
       "      <td>36333</td>\n",
       "      <td>Brian Azzarello</td>\n",
       "      <td>2016</td>\n",
       "      <td>302500.0</td>\n",
       "      <td>July</td>\n",
       "      <td>25</td>\n",
       "      <td>3.0</td>\n",
       "    </tr>\n",
       "  </tbody>\n",
       "</table>\n",
       "</div>"
      ],
      "text/plain": [
       "          budget                 company  country        director      genre  \\\n",
       "6808   3300000.0          Westerly Films  Ireland   Whit Stillman     Comedy   \n",
       "6809   4180000.0       Sycamore Pictures      USA  John Krasinski     Comedy   \n",
       "6811   9350000.0               CBS Films      USA      Steve Carr  Animation   \n",
       "6814  22000000.0        LD Entertainment      USA  Kevin Reynolds     Action   \n",
       "6817   3850000.0  Warner Bros. Animation      USA         Sam Liu  Animation   \n",
       "\n",
       "           gross                                       name rating  \\\n",
       "6808  15414920.4                          Love & Friendship     PG   \n",
       "6809   1118559.2                                The Hollars  PG-13   \n",
       "6811  21983715.6  Middle School: The Worst Years of My Life     PG   \n",
       "6814  40562219.5                                      Risen  PG-13   \n",
       "6817   4152500.0                   Batman: The Killing Joke      R   \n",
       "\n",
       "        released  runtime  score             star  votes           writer  \\\n",
       "6808  2016-06-03       90    6.5  Kate Beckinsale  17862    Whit Stillman   \n",
       "6809  2016-08-26       88    6.5   Sharlto Copley   7227      Jim Strouse   \n",
       "6811  2016-10-07       92    6.1    Griffin Gluck   4556     Chris Bowman   \n",
       "6814  2016-02-19      107    6.3   Joseph Fiennes  19084   Kevin Reynolds   \n",
       "6817  2016-07-25       76    6.5     Kevin Conroy  36333  Brian Azzarello   \n",
       "\n",
       "      year     profits month_release  day_release  rating_encoded  \n",
       "6808  2016  12114920.4          June            3             1.0  \n",
       "6809  2016  -3061440.8        August           26             2.0  \n",
       "6811  2016  12633715.6       October            7             1.0  \n",
       "6814  2016  18562219.5      February           19             2.0  \n",
       "6817  2016    302500.0          July           25             3.0  "
      ]
     },
     "execution_count": 28,
     "metadata": {},
     "output_type": "execute_result"
    }
   ],
   "source": [
    "data.tail(5)"
   ]
  },
  {
   "cell_type": "markdown",
   "id": "fixed-budget",
   "metadata": {},
   "source": [
    "# Segmentación de los beneficios y los ingresos\n",
    "* Las variables \"k_binding_profits\", \"k_binding_gross\" y \"k_binding_budget\" indican el tamaño de los intervalos entre los que se segmentarán.\n",
    "* En caso de que la variable \"binding_by_quantiles\" sea True, se dividirá en percentiles según el valor de \"k_quantile\". Para segmentar de 5 en 5 percentiles, 0.05; para segmentar de 10 en 10 percentiles, 0.1, etc."
   ]
  },
  {
   "cell_type": "code",
   "execution_count": 29,
   "id": "precious-batman",
   "metadata": {},
   "outputs": [],
   "source": [
    "if(binding_by_quantiles==True):\n",
    "    bins, names_biding_profits = data_binding_quantiles(data, k_quantile, profits)\n",
    "    data[profits_binding] = pd.cut(data[profits], bins, labels=names_biding_profits)\n",
    "\n",
    "    bins, names_biding_gross = data_binding_quantiles(data, k_quantile, gross)\n",
    "    data[gross_binding] = pd.cut(data[gross], bins, labels=names_biding_gross)\n",
    "    \n",
    "    bins, names_biding_budget = data_binding_quantiles(data, k_quantile, budget)\n",
    "    data[budget_binding] = pd.cut(data[budget], bins, labels=names_biding_budget)\n",
    "    \n",
    "else:\n",
    "    bins, names_biding_profits = data_binding_profits(k_binding_profits)\n",
    "    data[profits_binding] = pd.cut(data[profits], bins, labels=names_biding_profits)\n",
    "\n",
    "    bins, names_biding_gross = data_binding_gross(k_binding_gross)\n",
    "    data[gross_binding] = pd.cut(data[gross], bins, labels=names_biding_gross)\n",
    "    \n",
    "    bins, names_biding_budget = data_binding_budget(k_binding_budget)\n",
    "    data[budget_binding] = pd.cut(data[budget], bins, labels=names_biding_budget)\n"
   ]
  },
  {
   "cell_type": "code",
   "execution_count": 30,
   "id": "handed-curve",
   "metadata": {},
   "outputs": [
    {
     "data": {
      "application/vnd.jupyter.widget-view+json": {
       "model_id": "2e128184acc546958f270df28a640a90",
       "version_major": 2,
       "version_minor": 0
      },
      "text/plain": [
       "interactive(children=(Checkbox(value=False, description='Muestra'), Output()), _dom_classes=('widget-interact'…"
      ]
     },
     "metadata": {},
     "output_type": "display_data"
    }
   ],
   "source": [
    "@interact(Muestra=False)\n",
    "def g(Muestra):\n",
    "    if(Muestra==True):\n",
    "        display(data.head(5))\n",
    "    else:\n",
    "        print(\" \")"
   ]
  },
  {
   "cell_type": "code",
   "execution_count": 31,
   "id": "light-indianapolis",
   "metadata": {},
   "outputs": [],
   "source": [
    "data[\"success\"] = 0\n",
    "\n",
    "threshold = data[\"gross\"].quantile(0.75)\n",
    "\n",
    "for index, row in data.iterrows():\n",
    "    if row[\"gross\"] > threshold:\n",
    "        data.at[index,'success'] = 1"
   ]
  },
  {
   "cell_type": "markdown",
   "id": "herbal-house",
   "metadata": {},
   "source": [
    "# Scatter plots"
   ]
  },
  {
   "cell_type": "code",
   "execution_count": 32,
   "id": "turned-seller",
   "metadata": {},
   "outputs": [],
   "source": [
    "%matplotlib inline\n",
    "#savefig(\"path\")"
   ]
  },
  {
   "cell_type": "code",
   "execution_count": 33,
   "id": "reliable-philippines",
   "metadata": {},
   "outputs": [
    {
     "data": {
      "application/vnd.jupyter.widget-view+json": {
       "model_id": "b709388e70534f93bbbaca27ec61e1b8",
       "version_major": 2,
       "version_minor": 0
      },
      "text/plain": [
       "interactive(children=(Dropdown(description='Axis_x', options=('Presupuesto', 'Ingresos', 'Beneficios', 'Puntua…"
      ]
     },
     "metadata": {},
     "output_type": "display_data"
    }
   ],
   "source": [
    "options = [\"Presupuesto\", \"Ingresos\", \"Beneficios\", \"Puntuación IMDB\", \"Votos\", \"Metraje\"]\n",
    "def show_scatter_plots(Axis_x, Axis_y):\n",
    "    x = select_option(Axis_x)\n",
    "    y = select_option(Axis_y)\n",
    "      \n",
    "    data.plot(kind=\"scatter\", x=x, y=y, xlabel = Axis_x, ylabel = Axis_y,\n",
    "          title =\"Scatter plot: \" + Axis_x + \" vs \" + Axis_y, color = \"c\")\n",
    "        \n",
    "interact(show_scatter_plots, Axis_x=options, Axis_y=options);"
   ]
  },
  {
   "cell_type": "markdown",
   "id": "rapid-cinema",
   "metadata": {},
   "source": [
    "# Histogramas"
   ]
  },
  {
   "cell_type": "code",
   "execution_count": 34,
   "id": "chicken-cooperative",
   "metadata": {},
   "outputs": [],
   "source": [
    "def sturges(df):\n",
    "    k = np.ceil(1+np.log2(len(df)))\n",
    "    k = int(k)\n",
    "    return k\n",
    "k = sturges(data)"
   ]
  },
  {
   "cell_type": "code",
   "execution_count": 35,
   "id": "cubic-traffic",
   "metadata": {},
   "outputs": [
    {
     "data": {
      "application/vnd.jupyter.widget-view+json": {
       "model_id": "8db2f0b543104add834b828d5f740a68",
       "version_major": 2,
       "version_minor": 0
      },
      "text/plain": [
       "interactive(children=(Dropdown(description='Category', options=('Presupuesto', 'Ingresos', 'Beneficios', 'Punt…"
      ]
     },
     "metadata": {},
     "output_type": "display_data"
    }
   ],
   "source": [
    "def show_hist(Category):\n",
    "    column = select_option(Category)\n",
    "       \n",
    "    plt.hist(data[column], bins = k, color = \"m\")\n",
    "    plt.xlabel(Category)\n",
    "    plt.ylabel(\"Frecuencia\")\n",
    "    plt.title(\"Histograma de \" + Category)\n",
    "        \n",
    "interact(show_hist, Category=options);"
   ]
  },
  {
   "cell_type": "markdown",
   "id": "relative-beginning",
   "metadata": {},
   "source": [
    "# Boxplot"
   ]
  },
  {
   "cell_type": "code",
   "execution_count": 36,
   "id": "final-chapter",
   "metadata": {},
   "outputs": [],
   "source": [
    "def interquartile_range (df, cl):\n",
    "    gross25 = df[cl].describe()[4]\n",
    "    gross75 = df[cl].describe()[6]\n",
    "    return gross75 - gross25\n",
    "\n",
    "def class_describe (df, cl):\n",
    "    print(df[cl].describe())\n",
    "    iqr = interquartile_range(df, cl)\n",
    "    print(\"IQR: \" + str(iqr))\n",
    "    limit1 = df[cl].quantile(0.25) - 1.5*iqr\n",
    "    limit2 = df[cl].quantile(0.75) + 1.5*iqr\n",
    "    print(\"Límite bajo: \" + str(limit1))\n",
    "    print(\"Límite alto: \" + str(limit2))"
   ]
  },
  {
   "cell_type": "code",
   "execution_count": 37,
   "id": "relevant-motel",
   "metadata": {},
   "outputs": [
    {
     "data": {
      "application/vnd.jupyter.widget-view+json": {
       "model_id": "c808a4641fc640aab5ad3e1bc32dfb55",
       "version_major": 2,
       "version_minor": 0
      },
      "text/plain": [
       "interactive(children=(Dropdown(description='Category', options=('Presupuesto', 'Ingresos', 'Beneficios', 'Punt…"
      ]
     },
     "metadata": {},
     "output_type": "display_data"
    }
   ],
   "source": [
    "def show_boxplot(Category):\n",
    "       \n",
    "    column = select_option(Category)\n",
    "       \n",
    "    plt.boxplot(data[column])\n",
    "    plt.ylabel(Category)\n",
    "    plt.title(\"Boxplot de \" + Category)\n",
    "    class_describe(data, column)\n",
    "        \n",
    "interact(show_boxplot, Category=options);"
   ]
  },
  {
   "cell_type": "markdown",
   "id": "altered-certification",
   "metadata": {},
   "source": [
    "**Boxplot de los ingresos**: el 75% de los datos más bajos está muy concentrado y el 25% de los datos más altos está muy disperso. Los ingresos crecen desorbitadamente en algunas películas. La varianza hacia arriba es muy alta."
   ]
  },
  {
   "cell_type": "markdown",
   "id": "adapted-antenna",
   "metadata": {},
   "source": [
    "**Boxplot del presupuesto**: sucede algo similar, aunque el 75% de los presupuestos más bajos no está tan concentrado. La mediana está más alejada del mínimo y el IQR es más alto."
   ]
  },
  {
   "cell_type": "markdown",
   "id": "opened-broad",
   "metadata": {},
   "source": [
    "**Boxplot de los beneficios**: el rango intercuartílico es muy bajo. El 50% de los datos (25% por encima de la mediana y 25% por debajo de ella) está muy concentrado. Además, a diferencia de lo que sucedía en los gráficos anteriores, aquí también hay muchas excepciones que se escapan por debajo del cuartil 25, aunque la varianza es más alta hacia abajo que hacia arriba."
   ]
  },
  {
   "cell_type": "markdown",
   "id": "suburban-silence",
   "metadata": {},
   "source": [
    "**Boxplot de las puntuaciones**: aquí vemos una representación más normalizada, aunque con muchos outliers de baja puntuación. No sucede lo mismo con las notas altas. La varianza es muy alta hacia abajo."
   ]
  },
  {
   "cell_type": "markdown",
   "id": "downtown-mongolia",
   "metadata": {},
   "source": [
    "**Boxplot del número de votos**: es muy parecido al boxplot de los ingresos, con la mediana muy cerca del mínimo, el IQR muy bajo y la varianza muy alta hacia arriba. Tendría sentido que estas dos variables estén correlacionadas. A más ingresos, más visionados, más votos de usuarios."
   ]
  },
  {
   "cell_type": "markdown",
   "id": "spoken-ticket",
   "metadata": {},
   "source": [
    "# Coeficiente de Correlación de Pearson"
   ]
  },
  {
   "cell_type": "markdown",
   "id": "prescription-minnesota",
   "metadata": {},
   "source": [
    "¿Hay correlación entre algunas categorías?"
   ]
  },
  {
   "cell_type": "code",
   "execution_count": 38,
   "id": "latter-chicken",
   "metadata": {},
   "outputs": [
    {
     "data": {
      "text/html": [
       "<div>\n",
       "<style scoped>\n",
       "    .dataframe tbody tr th:only-of-type {\n",
       "        vertical-align: middle;\n",
       "    }\n",
       "\n",
       "    .dataframe tbody tr th {\n",
       "        vertical-align: top;\n",
       "    }\n",
       "\n",
       "    .dataframe thead th {\n",
       "        text-align: right;\n",
       "    }\n",
       "</style>\n",
       "<table border=\"1\" class=\"dataframe\">\n",
       "  <thead>\n",
       "    <tr style=\"text-align: right;\">\n",
       "      <th></th>\n",
       "      <th>budget</th>\n",
       "      <th>gross</th>\n",
       "      <th>runtime</th>\n",
       "      <th>score</th>\n",
       "      <th>votes</th>\n",
       "      <th>year</th>\n",
       "      <th>profits</th>\n",
       "      <th>day_release</th>\n",
       "      <th>rating_encoded</th>\n",
       "      <th>success</th>\n",
       "    </tr>\n",
       "  </thead>\n",
       "  <tbody>\n",
       "    <tr>\n",
       "      <th>budget</th>\n",
       "      <td>1.000000</td>\n",
       "      <td>0.630694</td>\n",
       "      <td>0.337389</td>\n",
       "      <td>0.066138</td>\n",
       "      <td>0.428243</td>\n",
       "      <td>0.116724</td>\n",
       "      <td>0.081783</td>\n",
       "      <td>-0.006667</td>\n",
       "      <td>-0.287265</td>\n",
       "      <td>0.531296</td>\n",
       "    </tr>\n",
       "    <tr>\n",
       "      <th>gross</th>\n",
       "      <td>0.630694</td>\n",
       "      <td>1.000000</td>\n",
       "      <td>0.260678</td>\n",
       "      <td>0.243381</td>\n",
       "      <td>0.623233</td>\n",
       "      <td>0.031984</td>\n",
       "      <td>0.825012</td>\n",
       "      <td>-0.010883</td>\n",
       "      <td>-0.263803</td>\n",
       "      <td>0.747520</td>\n",
       "    </tr>\n",
       "    <tr>\n",
       "      <th>runtime</th>\n",
       "      <td>0.337389</td>\n",
       "      <td>0.260678</td>\n",
       "      <td>1.000000</td>\n",
       "      <td>0.417426</td>\n",
       "      <td>0.365277</td>\n",
       "      <td>0.043797</td>\n",
       "      <td>0.089096</td>\n",
       "      <td>0.005178</td>\n",
       "      <td>0.144002</td>\n",
       "      <td>0.206821</td>\n",
       "    </tr>\n",
       "    <tr>\n",
       "      <th>score</th>\n",
       "      <td>0.066138</td>\n",
       "      <td>0.243381</td>\n",
       "      <td>0.417426</td>\n",
       "      <td>1.000000</td>\n",
       "      <td>0.476331</td>\n",
       "      <td>0.059662</td>\n",
       "      <td>0.264410</td>\n",
       "      <td>-0.010634</td>\n",
       "      <td>0.121920</td>\n",
       "      <td>0.208188</td>\n",
       "    </tr>\n",
       "    <tr>\n",
       "      <th>votes</th>\n",
       "      <td>0.428243</td>\n",
       "      <td>0.623233</td>\n",
       "      <td>0.365277</td>\n",
       "      <td>0.476331</td>\n",
       "      <td>1.000000</td>\n",
       "      <td>0.186702</td>\n",
       "      <td>0.488561</td>\n",
       "      <td>-0.012773</td>\n",
       "      <td>-0.004210</td>\n",
       "      <td>0.466473</td>\n",
       "    </tr>\n",
       "    <tr>\n",
       "      <th>year</th>\n",
       "      <td>0.116724</td>\n",
       "      <td>0.031984</td>\n",
       "      <td>0.043797</td>\n",
       "      <td>0.059662</td>\n",
       "      <td>0.186702</td>\n",
       "      <td>1.000000</td>\n",
       "      <td>-0.043923</td>\n",
       "      <td>0.019659</td>\n",
       "      <td>-0.017347</td>\n",
       "      <td>0.004548</td>\n",
       "    </tr>\n",
       "    <tr>\n",
       "      <th>profits</th>\n",
       "      <td>0.081783</td>\n",
       "      <td>0.825012</td>\n",
       "      <td>0.089096</td>\n",
       "      <td>0.264410</td>\n",
       "      <td>0.488561</td>\n",
       "      <td>-0.043923</td>\n",
       "      <td>1.000000</td>\n",
       "      <td>-0.009122</td>\n",
       "      <td>-0.129610</td>\n",
       "      <td>0.573137</td>\n",
       "    </tr>\n",
       "    <tr>\n",
       "      <th>day_release</th>\n",
       "      <td>-0.006667</td>\n",
       "      <td>-0.010883</td>\n",
       "      <td>0.005178</td>\n",
       "      <td>-0.010634</td>\n",
       "      <td>-0.012773</td>\n",
       "      <td>0.019659</td>\n",
       "      <td>-0.009122</td>\n",
       "      <td>1.000000</td>\n",
       "      <td>-0.015618</td>\n",
       "      <td>-0.016278</td>\n",
       "    </tr>\n",
       "    <tr>\n",
       "      <th>rating_encoded</th>\n",
       "      <td>-0.287265</td>\n",
       "      <td>-0.263803</td>\n",
       "      <td>0.144002</td>\n",
       "      <td>0.121920</td>\n",
       "      <td>-0.004210</td>\n",
       "      <td>-0.017347</td>\n",
       "      <td>-0.129610</td>\n",
       "      <td>-0.015618</td>\n",
       "      <td>1.000000</td>\n",
       "      <td>-0.236458</td>\n",
       "    </tr>\n",
       "    <tr>\n",
       "      <th>success</th>\n",
       "      <td>0.531296</td>\n",
       "      <td>0.747520</td>\n",
       "      <td>0.206821</td>\n",
       "      <td>0.208188</td>\n",
       "      <td>0.466473</td>\n",
       "      <td>0.004548</td>\n",
       "      <td>0.573137</td>\n",
       "      <td>-0.016278</td>\n",
       "      <td>-0.236458</td>\n",
       "      <td>1.000000</td>\n",
       "    </tr>\n",
       "  </tbody>\n",
       "</table>\n",
       "</div>"
      ],
      "text/plain": [
       "                  budget     gross   runtime     score     votes      year  \\\n",
       "budget          1.000000  0.630694  0.337389  0.066138  0.428243  0.116724   \n",
       "gross           0.630694  1.000000  0.260678  0.243381  0.623233  0.031984   \n",
       "runtime         0.337389  0.260678  1.000000  0.417426  0.365277  0.043797   \n",
       "score           0.066138  0.243381  0.417426  1.000000  0.476331  0.059662   \n",
       "votes           0.428243  0.623233  0.365277  0.476331  1.000000  0.186702   \n",
       "year            0.116724  0.031984  0.043797  0.059662  0.186702  1.000000   \n",
       "profits         0.081783  0.825012  0.089096  0.264410  0.488561 -0.043923   \n",
       "day_release    -0.006667 -0.010883  0.005178 -0.010634 -0.012773  0.019659   \n",
       "rating_encoded -0.287265 -0.263803  0.144002  0.121920 -0.004210 -0.017347   \n",
       "success         0.531296  0.747520  0.206821  0.208188  0.466473  0.004548   \n",
       "\n",
       "                 profits  day_release  rating_encoded   success  \n",
       "budget          0.081783    -0.006667       -0.287265  0.531296  \n",
       "gross           0.825012    -0.010883       -0.263803  0.747520  \n",
       "runtime         0.089096     0.005178        0.144002  0.206821  \n",
       "score           0.264410    -0.010634        0.121920  0.208188  \n",
       "votes           0.488561    -0.012773       -0.004210  0.466473  \n",
       "year           -0.043923     0.019659       -0.017347  0.004548  \n",
       "profits         1.000000    -0.009122       -0.129610  0.573137  \n",
       "day_release    -0.009122     1.000000       -0.015618 -0.016278  \n",
       "rating_encoded -0.129610    -0.015618        1.000000 -0.236458  \n",
       "success         0.573137    -0.016278       -0.236458  1.000000  "
      ]
     },
     "metadata": {},
     "output_type": "display_data"
    },
    {
     "data": {
      "text/plain": [
       "<AxesSubplot:>"
      ]
     },
     "execution_count": 38,
     "metadata": {},
     "output_type": "execute_result"
    },
    {
     "data": {
      "image/png": "[encoded data removed]",
      "text/plain": [
       "<Figure size 720x504 with 2 Axes>"
      ]
     },
     "metadata": {
      "needs_background": "light"
     },
     "output_type": "display_data"
    }
   ],
   "source": [
    "corr_data = data.corr()\n",
    "display(corr_data)\n",
    "plt.figure(figsize=(10,7))\n",
    "sns.heatmap(corr_data, annot=True)"
   ]
  },
  {
   "cell_type": "markdown",
   "id": "clinical-profession",
   "metadata": {},
   "source": [
    "Tras calcular el Coeficiente de Pearson, se ha observado cierta correlación (que puede no implicar causalidad) entre algunas categorías:\n",
    "* **Ingresos y presupuesto (0.64)**: ¿a mayor presupuesto, mayor recaudación? Hay dependencia.\n",
    "* **Votos e ingresos (0.63)**: tal y como se predijo en los boxplots, parece que hay cierta depende entre estas dos variables.\n",
    "* **Votos y presupuesto (0.44)**: ¿a mayor presupuesto, mayor número de votos? Es un coeficiente bajo, aunque hay cierta dependencia.\n",
    "* **Beneficios e ingresos (0.83)**: cuanto mayores sean los ingresos, mayores serán los beneficios. Es lógico que estas dos variables estén correlacionadas, aunque no hay que olvidar que no se incluye los gatos de posproducción.\n",
    "* **Beneficios y votos (0.49)**: cuanto mayor sea el número de votos, mayores serán también los beneficios, igual que sucedía con los ingresos, aunque no se trata de un coeficiente muy alto.\n",
    "\n",
    "Entonces, **¿cómo de importante es producir una buena película (basándose en la nota en IMDB) para obtener muchos ingresos?** Poco importante. El coeficiente de correlación es de 0.25, muy bajo. La dependencia es mínima.\n",
    "**¿Y para conseguir muchos votos?** Hay más correlación, un 0.48 pero no es determinante, sigue siendo bajo."
   ]
  },
  {
   "cell_type": "code",
   "execution_count": 39,
   "id": "entitled-portugal",
   "metadata": {},
   "outputs": [
    {
     "data": {
      "text/plain": [
       "Text(0, 0.5, 'Ingresos')"
      ]
     },
     "execution_count": 39,
     "metadata": {},
     "output_type": "execute_result"
    },
    {
     "data": {
      "image/png": "[encoded data removed]",
      "text/plain": [
       "<Figure size 432x288 with 1 Axes>"
      ]
     },
     "metadata": {
      "needs_background": "light"
     },
     "output_type": "display_data"
    }
   ],
   "source": [
    "plt.plot(data.budget, data.gross, \"go\")\n",
    "plt.title(\"Presupuesto frente a ingresos: (coef 0.64)\")\n",
    "plt.xlabel(\"Presupuesto\")\n",
    "plt.ylabel(\"Ingresos\")"
   ]
  },
  {
   "cell_type": "code",
   "execution_count": 40,
   "id": "progressive-transition",
   "metadata": {},
   "outputs": [
    {
     "data": {
      "text/plain": [
       "Text(0, 0.5, 'Ingresos')"
      ]
     },
     "execution_count": 40,
     "metadata": {},
     "output_type": "execute_result"
    },
    {
     "data": {
      "image/png": "[encoded data removed]",
      "text/plain": [
       "<Figure size 432x288 with 1 Axes>"
      ]
     },
     "metadata": {
      "needs_background": "light"
     },
     "output_type": "display_data"
    }
   ],
   "source": [
    "plt.plot(data.votes, data.gross, \"bo\")\n",
    "plt.title(\"Votos frente a ingresos: (coef 0.63)\")\n",
    "plt.xlabel(\"Votos\")\n",
    "plt.ylabel(\"Ingresos\")"
   ]
  },
  {
   "cell_type": "code",
   "execution_count": 41,
   "id": "engaging-foundation",
   "metadata": {},
   "outputs": [
    {
     "data": {
      "text/plain": [
       "Text(0, 0.5, 'Presupuesto')"
      ]
     },
     "execution_count": 41,
     "metadata": {},
     "output_type": "execute_result"
    },
    {
     "data": {
      "image/png": "[encoded data removed]",
      "text/plain": [
       "<Figure size 432x288 with 1 Axes>"
      ]
     },
     "metadata": {
      "needs_background": "light"
     },
     "output_type": "display_data"
    }
   ],
   "source": [
    "plt.plot(data.votes, data.budget, \"ro\")\n",
    "plt.title(\"Votos frente a presupuesto (coef 0.44)\")\n",
    "plt.xlabel(\"Votos\")\n",
    "plt.ylabel(\"Presupuesto\")"
   ]
  },
  {
   "cell_type": "code",
   "execution_count": 42,
   "id": "rough-investing",
   "metadata": {},
   "outputs": [
    {
     "data": {
      "text/plain": [
       "Text(0, 0.5, 'Ingresos')"
      ]
     },
     "execution_count": 42,
     "metadata": {},
     "output_type": "execute_result"
    },
    {
     "data": {
      "image/png": "[encoded data removed]",
      "text/plain": [
       "<Figure size 432x288 with 1 Axes>"
      ]
     },
     "metadata": {
      "needs_background": "light"
     },
     "output_type": "display_data"
    }
   ],
   "source": [
    "plt.plot(data.profits, data.gross, \"yo\")\n",
    "plt.title(\"Beneficios frente a ingresos (coef 0.83)\")\n",
    "plt.xlabel(\"Beneficios\")\n",
    "plt.ylabel(\"Ingresos\")"
   ]
  },
  {
   "cell_type": "code",
   "execution_count": 43,
   "id": "understanding-longer",
   "metadata": {},
   "outputs": [
    {
     "data": {
      "text/plain": [
       "Text(0, 0.5, 'Beneficios')"
      ]
     },
     "execution_count": 43,
     "metadata": {},
     "output_type": "execute_result"
    },
    {
     "data": {
      "image/png": "[encoded data removed]",
      "text/plain": [
       "<Figure size 432x288 with 1 Axes>"
      ]
     },
     "metadata": {
      "needs_background": "light"
     },
     "output_type": "display_data"
    }
   ],
   "source": [
    "plt.plot(data.votes, data.profits, \"mo\")\n",
    "plt.title(\"Votos frente a beneficios (coef 0.49)\")\n",
    "plt.xlabel(\"Votos\")\n",
    "plt.ylabel(\"Beneficios\")"
   ]
  },
  {
   "cell_type": "code",
   "execution_count": 44,
   "id": "transsexual-liberia",
   "metadata": {},
   "outputs": [
    {
     "data": {
      "text/plain": [
       "Text(0, 0.5, 'Ingresos')"
      ]
     },
     "execution_count": 44,
     "metadata": {},
     "output_type": "execute_result"
    },
    {
     "data": {
      "image/png": "[encoded data removed]",
      "text/plain": [
       "<Figure size 432x288 with 1 Axes>"
      ]
     },
     "metadata": {
      "needs_background": "light"
     },
     "output_type": "display_data"
    }
   ],
   "source": [
    "plt.plot(data.score, data.gross, \"co\")\n",
    "plt.title(\"Puntuación en IMDB frente a ingresos (coef 0.17)\")\n",
    "plt.xlabel(\"Votos\")\n",
    "plt.ylabel(\"Ingresos\")"
   ]
  },
  {
   "cell_type": "markdown",
   "id": "departmental-origin",
   "metadata": {},
   "source": [
    "# Análisis de las clasificaciones por edad\n"
   ]
  },
  {
   "cell_type": "code",
   "execution_count": 45,
   "id": "fossil-packing",
   "metadata": {},
   "outputs": [],
   "source": [
    "ratings = np.unique(data[rating])"
   ]
  },
  {
   "cell_type": "markdown",
   "id": "restricted-coordinate",
   "metadata": {},
   "source": [
    "## Beneficios, ingresos, presupuesto y clasificaciones\n",
    "* Para los cálculos de las tablas de contingencia se utilizarán las variables segmentadas de beneficios, presupuesto e ingresos."
   ]
  },
  {
   "cell_type": "code",
   "execution_count": 46,
   "id": "demographic-brand",
   "metadata": {},
   "outputs": [
    {
     "data": {
      "text/html": [
       "<div>\n",
       "<style scoped>\n",
       "    .dataframe tbody tr th:only-of-type {\n",
       "        vertical-align: middle;\n",
       "    }\n",
       "\n",
       "    .dataframe tbody tr th {\n",
       "        vertical-align: top;\n",
       "    }\n",
       "\n",
       "    .dataframe thead th {\n",
       "        text-align: right;\n",
       "    }\n",
       "</style>\n",
       "<table border=\"1\" class=\"dataframe\">\n",
       "  <thead>\n",
       "    <tr style=\"text-align: right;\">\n",
       "      <th></th>\n",
       "      <th>rating</th>\n",
       "      <th>Mean_budget</th>\n",
       "      <th>Mean_gross</th>\n",
       "      <th>Mean_profits</th>\n",
       "    </tr>\n",
       "  </thead>\n",
       "  <tbody>\n",
       "    <tr>\n",
       "      <th>0</th>\n",
       "      <td>G</td>\n",
       "      <td>80111230.00</td>\n",
       "      <td>1.275469e+08</td>\n",
       "      <td>47435678.42</td>\n",
       "    </tr>\n",
       "    <tr>\n",
       "      <th>1</th>\n",
       "      <td>PG</td>\n",
       "      <td>67392267.53</td>\n",
       "      <td>9.463522e+07</td>\n",
       "      <td>27242954.35</td>\n",
       "    </tr>\n",
       "    <tr>\n",
       "      <th>2</th>\n",
       "      <td>PG-13</td>\n",
       "      <td>66673444.59</td>\n",
       "      <td>8.678222e+07</td>\n",
       "      <td>20108777.67</td>\n",
       "    </tr>\n",
       "    <tr>\n",
       "      <th>3</th>\n",
       "      <td>R</td>\n",
       "      <td>34838078.89</td>\n",
       "      <td>4.168825e+07</td>\n",
       "      <td>6850172.54</td>\n",
       "    </tr>\n",
       "  </tbody>\n",
       "</table>\n",
       "</div>"
      ],
      "text/plain": [
       "  rating  Mean_budget    Mean_gross  Mean_profits\n",
       "0      G  80111230.00  1.275469e+08   47435678.42\n",
       "1     PG  67392267.53  9.463522e+07   27242954.35\n",
       "2  PG-13  66673444.59  8.678222e+07   20108777.67\n",
       "3      R  34838078.89  4.168825e+07    6850172.54"
      ]
     },
     "execution_count": 46,
     "metadata": {},
     "output_type": "execute_result"
    }
   ],
   "source": [
    "dm_budget = mean_category(data, rating, budget, \"presupuesto\")\n",
    "dm_gross = mean_category(data, rating, gross, \"ingresos\")\n",
    "dm_ben = mean_category(data, rating, profits, \"beneficios\")\n",
    "\n",
    "dm_rating = join_df_mean (dm_budget, dm_gross, dm_ben)\n",
    "dm_rating"
   ]
  },
  {
   "cell_type": "markdown",
   "id": "extra-complex",
   "metadata": {},
   "source": [
    "### Tabla de contingencia: beneficios\n",
    "* Tabla de contingencia de los beneficios y la clasificación por edades."
   ]
  },
  {
   "cell_type": "code",
   "execution_count": 47,
   "id": "stainless-canvas",
   "metadata": {},
   "outputs": [
    {
     "data": {
      "application/vnd.jupyter.widget-view+json": {
       "model_id": "e41fef4e6bbb4486b80b2710c4bdc34d",
       "version_major": 2,
       "version_minor": 0
      },
      "text/plain": [
       "interactive(children=(Dropdown(description='Tabla', options=('Tabla de contingencia', 'Películas por clasifica…"
      ]
     },
     "metadata": {},
     "output_type": "display_data"
    }
   ],
   "source": [
    "cont_table_profits_rating, cont_table_profits_rating_p = create_crosstab(data, rating, profits_binding)\n",
    "\n",
    "def show_crosstab_tables(Tabla):\n",
    "    if(Tabla == \"Tabla de contingencia\"):\n",
    "        print(BOLD+\"Tabla de contingencia:\"+END_BOLD)\n",
    "        display(cont_table_profits_rating)\n",
    "    \n",
    "    if(Tabla == \"Películas por clasificación\"):\n",
    "        print(BOLD+\"\\nPelículas por clasificación:\"+END_BOLD)\n",
    "        print(cont_table_profits_rating.sum(axis=1))\n",
    "    \n",
    "    if(Tabla == \"Películas por intervalo\"):\n",
    "        print(BOLD+\"\\nPelículas por intervalo:\"+END_BOLD)\n",
    "        print(cont_table_profits_rating.sum(axis=0))\n",
    "    \n",
    "    if(Tabla == \"Tabla de contingencia con probabilidades\"):\n",
    "        print(BOLD+\"\\nTabla de contingencia con probabilidades:\"+END_BOLD)\n",
    "        display(cont_table_profits_rating_p)\n",
    "        \n",
    "interact(show_crosstab_tables, Tabla=[\"Tabla de contingencia\", \"Películas por clasificación\", \n",
    "                        \"Películas por intervalo\", \"Tabla de contingencia con probabilidades\"]);"
   ]
  },
  {
   "cell_type": "markdown",
   "id": "derived-teens",
   "metadata": {},
   "source": [
    "#### ¿Cuál es la probabilidad de que una película tenga unos benificios entre [profits_bining] si su clasificación es [rating]?"
   ]
  },
  {
   "cell_type": "code",
   "execution_count": 48,
   "id": "miniature-arthur",
   "metadata": {},
   "outputs": [
    {
     "data": {
      "text/latex": [
       "$\\displaystyle  P(Beneficios|Clasificación) = \\frac{Nº\\ total\\ de\\ películas\\ con\\ esa\\ clasificación\\ en\\ ese\\ rango}{Nº\\ total\\ de\\ películas\\ con\\ esa\\ clasificación} = \\frac{Intervalo\\ de\\ beneficios\\cap Clasficación\\ X}{Clasificación\\ X}$"
      ],
      "text/plain": [
       "<IPython.core.display.Math object>"
      ]
     },
     "metadata": {},
     "output_type": "display_data"
    }
   ],
   "source": [
    "display(Math(r' P(Beneficios|Clasificación) = \\frac{Nº\\ total\\ de\\ películas\\ con\\ esa\\ clasificación\\ en\\ ese\\ rango}{Nº\\ total\\ de\\ películas\\ con\\ esa\\ clasificación} = \\frac{Intervalo\\ de\\ beneficios\\cap Clasficación\\ X}{Clasificación\\ X}'))\n"
   ]
  },
  {
   "cell_type": "code",
   "execution_count": 49,
   "id": "consistent-malta",
   "metadata": {},
   "outputs": [
    {
     "data": {
      "application/vnd.jupyter.widget-view+json": {
       "model_id": "3137767ba37b458e8087fedcf20d8569",
       "version_major": 2,
       "version_minor": 0
      },
      "text/plain": [
       "interactive(children=(Dropdown(description='Rating', options=('G', 'PG', 'PG-13', 'R'), value='G'), Dropdown(d…"
      ]
     },
     "metadata": {},
     "output_type": "display_data"
    }
   ],
   "source": [
    "def show_prob_rating_profits(Rating, Interval):\n",
    "    prob = cont_table_profits_rating_p[Interval][Rating]\n",
    "    prob = round(prob,2)\n",
    "    prob = prob*100\n",
    "    print(BOLD+\"\\nProbability: \"+str(prob)+\"%\"+END_BOLD)\n",
    "    \n",
    "ratings = np.unique(data[rating])\n",
    "    \n",
    "interact(show_prob_rating_profits, Rating=ratings, Interval=cont_table_profits_rating_p.columns.values.tolist());"
   ]
  },
  {
   "cell_type": "markdown",
   "id": "encouraging-memphis",
   "metadata": {},
   "source": [
    "#### Test de la Chi-Cuadrado con la tabla de contingencia: ¿existe relación entre los beneficios y las clasificaciones?"
   ]
  },
  {
   "cell_type": "code",
   "execution_count": 50,
   "id": "informational-sperm",
   "metadata": {},
   "outputs": [
    {
     "name": "stdout",
     "output_type": "stream",
     "text": [
      "5.312779558331595e-43\n",
      "\u001b[1mEl p-valor es inferior a 0.05 y, por tanto, rechazamos la hipótesis nula. Las dos variables analizadas no son independientes. Podemos afirmar que hay relación entre ellas.\u001b[0m\n"
     ]
    }
   ],
   "source": [
    "test_chi2 = chi2_contingency(cont_table_profits_rating)\n",
    "calculate_test = pd.DataFrame(test_chi2[3])\n",
    "calculate_test_rel = round(calculate_test.apply(lambda r: r/len(data)*100, axis=1 ), 2)\n",
    "table_rel = round(cont_table_profits_rating.apply(lambda r: r/len(data)*100, axis=1 ), 2)\n",
    "print(test_chi2[1])\n",
    "evaluate_chi(test_chi2[1])"
   ]
  },
  {
   "cell_type": "markdown",
   "id": "through-purple",
   "metadata": {},
   "source": [
    "### Tabla de contingencia: ingresos\n",
    "* Tabla de contingencia de los ingresos y la clasificación por edades"
   ]
  },
  {
   "cell_type": "code",
   "execution_count": 51,
   "id": "mature-destiny",
   "metadata": {},
   "outputs": [
    {
     "data": {
      "application/vnd.jupyter.widget-view+json": {
       "model_id": "a117dd49b2a243d79f61e3c1df5f5174",
       "version_major": 2,
       "version_minor": 0
      },
      "text/plain": [
       "interactive(children=(Dropdown(description='Tabla', options=('Tabla de contingencia', 'Películas por clasifica…"
      ]
     },
     "metadata": {},
     "output_type": "display_data"
    }
   ],
   "source": [
    "cont_table_gross_rating, cont_table_gross_rating_p = create_crosstab(data, rating, gross_binding)\n",
    "\n",
    "def show_crosstab_tables_gross(Tabla):\n",
    "    if(Tabla == \"Tabla de contingencia\"):\n",
    "        print(BOLD+\"Tabla de contingencia:\"+END_BOLD)\n",
    "        display(cont_table_gross_rating)\n",
    "    \n",
    "    if(Tabla == \"Películas por clasificación\"):\n",
    "        print(BOLD+\"\\nPelículas por clasificación:\"+END_BOLD)\n",
    "        print(cont_table_gross_rating.sum(axis=1))\n",
    "    \n",
    "    if(Tabla == \"Películas por intervalo\"):\n",
    "        print(BOLD+\"\\nPelículas por intervalo:\"+END_BOLD)\n",
    "        print(cont_table_gross_rating.sum(axis=0))\n",
    "    \n",
    "    if(Tabla == \"Tabla de contingencia con probabilidades\"):\n",
    "        print(BOLD+\"\\nTabla de contingencia con probabilidades:\"+END_BOLD)\n",
    "        display(cont_table_gross_rating_p)\n",
    "        \n",
    "interact(show_crosstab_tables_gross, Tabla=[\"Tabla de contingencia\", \"Películas por clasificación\", \n",
    "                        \"Películas por intervalo\", \"Tabla de contingencia con probabilidades\"]);"
   ]
  },
  {
   "cell_type": "markdown",
   "id": "another-operator",
   "metadata": {},
   "source": [
    "#### ¿Cuál es la probabilidad de que una película tenga unos ingresos entre [gross_bining] si su clasificación es [rating]?"
   ]
  },
  {
   "cell_type": "code",
   "execution_count": 52,
   "id": "durable-naples",
   "metadata": {},
   "outputs": [
    {
     "data": {
      "text/latex": [
       "$\\displaystyle  P(Ingresos|Clasificación) = \\frac{Nº\\ total\\ de\\ películas\\ con\\ esa\\ clasificación\\ en\\ ese\\ rango}{Nº\\ total\\ de\\ películas\\ con\\ esa\\ clasificación} = \\frac{Intervalo\\ de\\ ingresos\\cap Clasficación\\ X}{Clasificación\\ X}$"
      ],
      "text/plain": [
       "<IPython.core.display.Math object>"
      ]
     },
     "metadata": {},
     "output_type": "display_data"
    }
   ],
   "source": [
    "display(Math(r' P(Ingresos|Clasificación) = \\frac{Nº\\ total\\ de\\ películas\\ con\\ esa\\ clasificación\\ en\\ ese\\ rango}{Nº\\ total\\ de\\ películas\\ con\\ esa\\ clasificación} = \\frac{Intervalo\\ de\\ ingresos\\cap Clasficación\\ X}{Clasificación\\ X}'))\n"
   ]
  },
  {
   "cell_type": "code",
   "execution_count": 53,
   "id": "incorporate-beverage",
   "metadata": {},
   "outputs": [
    {
     "data": {
      "application/vnd.jupyter.widget-view+json": {
       "model_id": "0effaf5d7db04106b31487c4b3949ffd",
       "version_major": 2,
       "version_minor": 0
      },
      "text/plain": [
       "interactive(children=(Dropdown(description='Rating', options=('G', 'PG', 'PG-13', 'R'), value='G'), Dropdown(d…"
      ]
     },
     "metadata": {},
     "output_type": "display_data"
    }
   ],
   "source": [
    "def show_prob_rating_gross(Rating, Interval):\n",
    "    prob = cont_table_gross_rating_p[Interval][Rating]\n",
    "    prob = round(prob,2)\n",
    "    prob = prob*100\n",
    "    print(BOLD+\"\\nProbability: \"+str(prob)+\"%\"+END_BOLD)\n",
    "    \n",
    "ratings = np.unique(data[rating])\n",
    "\n",
    "\n",
    "interact(show_prob_rating_gross, Rating=ratings, Interval=cont_table_gross_rating_p.columns.values.tolist());"
   ]
  },
  {
   "cell_type": "markdown",
   "id": "governmental-courage",
   "metadata": {},
   "source": [
    "#### Test de la Chi-Cuadrado con la tabla de contingencia: ¿existe relación entre los ingresos y las clasificaciones?"
   ]
  },
  {
   "cell_type": "code",
   "execution_count": 54,
   "id": "changing-release",
   "metadata": {
    "scrolled": true
   },
   "outputs": [
    {
     "name": "stdout",
     "output_type": "stream",
     "text": [
      "4.75570410925013e-100\n",
      "\u001b[1mEl p-valor es inferior a 0.05 y, por tanto, rechazamos la hipótesis nula. Las dos variables analizadas no son independientes. Podemos afirmar que hay relación entre ellas.\u001b[0m\n"
     ]
    }
   ],
   "source": [
    "test_chi(cont_table_gross_rating)"
   ]
  },
  {
   "cell_type": "markdown",
   "id": "stuck-injury",
   "metadata": {},
   "source": [
    "### Tabla de contingencia: presupuestos"
   ]
  },
  {
   "cell_type": "code",
   "execution_count": 55,
   "id": "unable-emphasis",
   "metadata": {},
   "outputs": [
    {
     "name": "stdout",
     "output_type": "stream",
     "text": [
      "1.5068988156190547e-108\n",
      "\u001b[1mEl p-valor es inferior a 0.05 y, por tanto, rechazamos la hipótesis nula. Las dos variables analizadas no son independientes. Podemos afirmar que hay relación entre ellas.\u001b[0m\n"
     ]
    }
   ],
   "source": [
    "cont_table_budget_rating, cont_table_budget_rating_p = create_crosstab(data, rating, budget_binding)\n",
    "test_chi(cont_table_budget_rating)"
   ]
  },
  {
   "cell_type": "markdown",
   "id": "selected-request",
   "metadata": {},
   "source": [
    "### Conclusiones: ingresos, beneficios, presupuesto y clasificaciones por edad\n",
    "La clasificación por edades está correlacionada con los ingresos, el presupuesto y los beneficios, tal y como indican las pruebas de Chi Cuadrado."
   ]
  },
  {
   "cell_type": "markdown",
   "id": "patent-electric",
   "metadata": {},
   "source": [
    "### Coeficiente de Pearson en función de la clasificación por edades para los ingresos"
   ]
  },
  {
   "cell_type": "code",
   "execution_count": 56,
   "id": "concrete-prairie",
   "metadata": {},
   "outputs": [
    {
     "data": {
      "application/vnd.jupyter.widget-view+json": {
       "model_id": "df4739e0854d49c390c707554914402b",
       "version_major": 2,
       "version_minor": 0
      },
      "text/plain": [
       "interactive(children=(Dropdown(description='Rating', options=('G', 'PG', 'PG-13', 'R'), value='G'), Output()),…"
      ]
     },
     "metadata": {},
     "output_type": "display_data"
    }
   ],
   "source": [
    "def show_corr_rating(Rating):\n",
    "    data_corr_rating = create_df_of_category(data, rating, Rating)\n",
    "    show_corr_data(data_corr_rating)\n",
    "    \n",
    "ratings = np.unique(data[rating])\n",
    "\n",
    "interact(show_corr_rating, Rating=ratings);"
   ]
  },
  {
   "cell_type": "markdown",
   "id": "numeric-chess",
   "metadata": {},
   "source": [
    "**En PG, G y R, la dependencia entre presupuesto e ingresos disminuye respecto al conjunto general. PG-13, en cambio, se acerca más a lo observado anteriormente. La correlación entre ingresos y puntuación (también entre beneficios y puntuación) aumenta ligeramente en G (respecto al resto de las clasificaciones y del plano general). De todas formas, la muestra de G es muy pequeña (sólo 100 películas) y los resultados no son absolutamente fiables.**"
   ]
  },
  {
   "cell_type": "markdown",
   "id": "joined-arthur",
   "metadata": {},
   "source": [
    "## ¿Qué clasificación por edades genera más ingresos?\n",
    "Para responder a esta pregunta cogeremos el conjunto \"data\"."
   ]
  },
  {
   "cell_type": "code",
   "execution_count": 57,
   "id": "filled-paradise",
   "metadata": {},
   "outputs": [
    {
     "data": {
      "image/png": "[encoded data removed]",
      "text/plain": [
       "<Figure size 432x288 with 1 Axes>"
      ]
     },
     "metadata": {
      "needs_background": "light"
     },
     "output_type": "display_data"
    }
   ],
   "source": [
    "plot = data[rating].value_counts().plot(kind='bar', title='Clasificaciones por edad', color=\"r\")"
   ]
  },
  {
   "cell_type": "code",
   "execution_count": 58,
   "id": "australian-nursing",
   "metadata": {},
   "outputs": [
    {
     "data": {
      "text/html": [
       "<div>\n",
       "<style scoped>\n",
       "    .dataframe tbody tr th:only-of-type {\n",
       "        vertical-align: middle;\n",
       "    }\n",
       "\n",
       "    .dataframe tbody tr th {\n",
       "        vertical-align: top;\n",
       "    }\n",
       "\n",
       "    .dataframe thead th {\n",
       "        text-align: right;\n",
       "    }\n",
       "</style>\n",
       "<table border=\"1\" class=\"dataframe\">\n",
       "  <thead>\n",
       "    <tr style=\"text-align: right;\">\n",
       "      <th></th>\n",
       "      <th>rating</th>\n",
       "      <th>Mean_gross</th>\n",
       "    </tr>\n",
       "  </thead>\n",
       "  <tbody>\n",
       "    <tr>\n",
       "      <th>0</th>\n",
       "      <td>G</td>\n",
       "      <td>1.275469e+08</td>\n",
       "    </tr>\n",
       "    <tr>\n",
       "      <th>1</th>\n",
       "      <td>PG</td>\n",
       "      <td>9.463522e+07</td>\n",
       "    </tr>\n",
       "    <tr>\n",
       "      <th>2</th>\n",
       "      <td>PG-13</td>\n",
       "      <td>8.678222e+07</td>\n",
       "    </tr>\n",
       "    <tr>\n",
       "      <th>3</th>\n",
       "      <td>R</td>\n",
       "      <td>4.168825e+07</td>\n",
       "    </tr>\n",
       "  </tbody>\n",
       "</table>\n",
       "</div>"
      ],
      "text/plain": [
       "  rating    Mean_gross\n",
       "0      G  1.275469e+08\n",
       "1     PG  9.463522e+07\n",
       "2  PG-13  8.678222e+07\n",
       "3      R  4.168825e+07"
      ]
     },
     "metadata": {},
     "output_type": "display_data"
    },
    {
     "data": {
      "text/html": [
       "<div>\n",
       "<style scoped>\n",
       "    .dataframe tbody tr th:only-of-type {\n",
       "        vertical-align: middle;\n",
       "    }\n",
       "\n",
       "    .dataframe tbody tr th {\n",
       "        vertical-align: top;\n",
       "    }\n",
       "\n",
       "    .dataframe thead th {\n",
       "        text-align: right;\n",
       "    }\n",
       "</style>\n",
       "<table border=\"1\" class=\"dataframe\">\n",
       "  <thead>\n",
       "    <tr style=\"text-align: right;\">\n",
       "      <th></th>\n",
       "      <th>rating</th>\n",
       "      <th>std_gross</th>\n",
       "    </tr>\n",
       "  </thead>\n",
       "  <tbody>\n",
       "    <tr>\n",
       "      <th>0</th>\n",
       "      <td>G</td>\n",
       "      <td>1.262437e+08</td>\n",
       "    </tr>\n",
       "    <tr>\n",
       "      <th>2</th>\n",
       "      <td>PG-13</td>\n",
       "      <td>1.099348e+08</td>\n",
       "    </tr>\n",
       "    <tr>\n",
       "      <th>1</th>\n",
       "      <td>PG</td>\n",
       "      <td>1.025265e+08</td>\n",
       "    </tr>\n",
       "    <tr>\n",
       "      <th>3</th>\n",
       "      <td>R</td>\n",
       "      <td>5.662501e+07</td>\n",
       "    </tr>\n",
       "  </tbody>\n",
       "</table>\n",
       "</div>"
      ],
      "text/plain": [
       "  rating     std_gross\n",
       "0      G  1.262437e+08\n",
       "2  PG-13  1.099348e+08\n",
       "1     PG  1.025265e+08\n",
       "3      R  5.662501e+07"
      ]
     },
     "metadata": {},
     "output_type": "display_data"
    }
   ],
   "source": [
    "mean_gross_rating = mean_category(data, rating, gross, \"ingresos\")\n",
    "display(mean_gross_rating.sort_values(\"Mean_gross\", ascending=False))\n",
    "\n",
    "std_gross_rating = std_category(data, rating, gross, \"ingresos\")\n",
    "display(std_gross_rating.sort_values(\"std_gross\", ascending=False))"
   ]
  },
  {
   "cell_type": "code",
   "execution_count": 59,
   "id": "dutch-restaurant",
   "metadata": {},
   "outputs": [
    {
     "data": {
      "application/vnd.jupyter.widget-view+json": {
       "model_id": "2f4f788c4cce43909b73295ad3781d05",
       "version_major": 2,
       "version_minor": 0
      },
      "text/plain": [
       "interactive(children=(Dropdown(description='Category', options=('G', 'PG', 'PG-13', 'R'), value='G'), Output()…"
      ]
     },
     "metadata": {},
     "output_type": "display_data"
    }
   ],
   "source": [
    "def show_boxplot_rating(Category):\n",
    "    sub_df = create_df_of_category (data, \"rating\", Category)\n",
    "       \n",
    "    plt.boxplot(sub_df[gross])\n",
    "    plt.ylabel(\"Ingresos\")\n",
    "    plt.title(\"Boxplot de ingresos en \" + Category)\n",
    "    class_describe(sub_df, gross)\n",
    "        \n",
    "ratings = np.unique(data[rating])\n",
    "interact(show_boxplot_rating, Category=ratings);"
   ]
  },
  {
   "cell_type": "code",
   "execution_count": 60,
   "id": "gorgeous-american",
   "metadata": {},
   "outputs": [
    {
     "name": "stdout",
     "output_type": "stream",
     "text": [
      "\u001b[1mCálculo (normalizado) de diferencias con la media:\u001b[0m\n",
      "G: la diferencia entre la mediana y el mínimo es 0.17197393116475718\n",
      "PG: la diferencia entre la mediana y el mínimo es 0.07907818399787647\n",
      "PG-13: la diferencia entre la mediana y el mínimo es 0.046730847618987555\n",
      "R: la diferencia entre la mediana y el mínimo es 0.040623539387298416\n",
      "\u001b[1mLista ordenada:\u001b[0m\n",
      "G: 0.17197393116475718\n",
      "PG: 0.07907818399787647\n",
      "PG-13: 0.046730847618987555\n",
      "R: 0.040623539387298416\n"
     ]
    }
   ],
   "source": [
    "print(BOLD+\"Cálculo (normalizado) de diferencias con la media:\"+END_BOLD)\n",
    "ratings = np.unique(data[rating])\n",
    "compare_med_list(data, gross, rating, ratings, \"min\")"
   ]
  },
  {
   "cell_type": "markdown",
   "id": "pressed-treasurer",
   "metadata": {},
   "source": [
    "### Conclusiones\n",
    "* **R**: es la clasificación con menos ingresos de media. Tiene una mediana y un IQR muy bajos. Apenas hay diferencia entre el 25% de los datos más bajos y los siguientes 50%. El 25% de los datos más altos está muy disperso, pero la mediana, el percentil 25 y el mínimo están muy cerca.\n",
    "* **PG-13**: presenta el mismo inconveniente que la clasificación R, aunque la media de ingresos es mucho más alta y su varianza es la segunda más alta hacia arriba.\n",
    "* **PG**: segunda media de ingresos más alta, tercera varianza más alta hacia arriba y segunda diferencia más alta entre la mediana y el mínimo.\n",
    "* **G**: tiene la media ingresos, la varianza hacia arriba y la diferencia entre mediana y mínimo más altas, pero la muestra es muy pequeña respecto al resto de clasificaciones."
   ]
  },
  {
   "cell_type": "markdown",
   "id": "oriented-microphone",
   "metadata": {},
   "source": [
    "**¿Es mejor producir una película para todos los públicos o una dirigida sólo al público adulto?** Para todos los públicos (G) hay una muestra muy pequeña, aunque el análisis para esa muestra es muy favorable. Entre PG, PG-13 y R, la de las restricción para menores de edad es la peor opción (menos ingresos, menos varianza hacia arriba y la mediana más cerca del mínimo)."
   ]
  },
  {
   "cell_type": "markdown",
   "id": "organized-sherman",
   "metadata": {},
   "source": [
    "## ¿Qué cambia si analizamos los presupuestos?\n"
   ]
  },
  {
   "cell_type": "code",
   "execution_count": 61,
   "id": "exciting-professional",
   "metadata": {},
   "outputs": [
    {
     "data": {
      "text/html": [
       "<div>\n",
       "<style scoped>\n",
       "    .dataframe tbody tr th:only-of-type {\n",
       "        vertical-align: middle;\n",
       "    }\n",
       "\n",
       "    .dataframe tbody tr th {\n",
       "        vertical-align: top;\n",
       "    }\n",
       "\n",
       "    .dataframe thead th {\n",
       "        text-align: right;\n",
       "    }\n",
       "</style>\n",
       "<table border=\"1\" class=\"dataframe\">\n",
       "  <thead>\n",
       "    <tr style=\"text-align: right;\">\n",
       "      <th></th>\n",
       "      <th>rating</th>\n",
       "      <th>Mean_budget</th>\n",
       "    </tr>\n",
       "  </thead>\n",
       "  <tbody>\n",
       "    <tr>\n",
       "      <th>0</th>\n",
       "      <td>G</td>\n",
       "      <td>80111230.00</td>\n",
       "    </tr>\n",
       "    <tr>\n",
       "      <th>1</th>\n",
       "      <td>PG</td>\n",
       "      <td>67392267.53</td>\n",
       "    </tr>\n",
       "    <tr>\n",
       "      <th>2</th>\n",
       "      <td>PG-13</td>\n",
       "      <td>66673444.59</td>\n",
       "    </tr>\n",
       "    <tr>\n",
       "      <th>3</th>\n",
       "      <td>R</td>\n",
       "      <td>34838078.89</td>\n",
       "    </tr>\n",
       "  </tbody>\n",
       "</table>\n",
       "</div>"
      ],
      "text/plain": [
       "  rating  Mean_budget\n",
       "0      G  80111230.00\n",
       "1     PG  67392267.53\n",
       "2  PG-13  66673444.59\n",
       "3      R  34838078.89"
      ]
     },
     "metadata": {},
     "output_type": "display_data"
    },
    {
     "data": {
      "text/html": [
       "<div>\n",
       "<style scoped>\n",
       "    .dataframe tbody tr th:only-of-type {\n",
       "        vertical-align: middle;\n",
       "    }\n",
       "\n",
       "    .dataframe tbody tr th {\n",
       "        vertical-align: top;\n",
       "    }\n",
       "\n",
       "    .dataframe thead th {\n",
       "        text-align: right;\n",
       "    }\n",
       "</style>\n",
       "<table border=\"1\" class=\"dataframe\">\n",
       "  <thead>\n",
       "    <tr style=\"text-align: right;\">\n",
       "      <th></th>\n",
       "      <th>rating</th>\n",
       "      <th>std_budget</th>\n",
       "    </tr>\n",
       "  </thead>\n",
       "  <tbody>\n",
       "    <tr>\n",
       "      <th>0</th>\n",
       "      <td>G</td>\n",
       "      <td>61587460.72</td>\n",
       "    </tr>\n",
       "    <tr>\n",
       "      <th>2</th>\n",
       "      <td>PG-13</td>\n",
       "      <td>59856351.82</td>\n",
       "    </tr>\n",
       "    <tr>\n",
       "      <th>1</th>\n",
       "      <td>PG</td>\n",
       "      <td>56280902.19</td>\n",
       "    </tr>\n",
       "    <tr>\n",
       "      <th>3</th>\n",
       "      <td>R</td>\n",
       "      <td>35078929.48</td>\n",
       "    </tr>\n",
       "  </tbody>\n",
       "</table>\n",
       "</div>"
      ],
      "text/plain": [
       "  rating   std_budget\n",
       "0      G  61587460.72\n",
       "2  PG-13  59856351.82\n",
       "1     PG  56280902.19\n",
       "3      R  35078929.48"
      ]
     },
     "metadata": {},
     "output_type": "display_data"
    }
   ],
   "source": [
    "mean_budget_rating = mean_category(data, rating, budget, \"presupuesto\")\n",
    "display(mean_budget_rating.sort_values(\"Mean_budget\", ascending=False))\n",
    "\n",
    "std_budget_rating = std_category(data, rating, budget, \"presupuesto\")\n",
    "display(std_budget_rating.sort_values(\"std_budget\", ascending=False))"
   ]
  },
  {
   "cell_type": "code",
   "execution_count": 62,
   "id": "quiet-basic",
   "metadata": {},
   "outputs": [
    {
     "data": {
      "application/vnd.jupyter.widget-view+json": {
       "model_id": "bdb823b003d04d2993ab61cde3096335",
       "version_major": 2,
       "version_minor": 0
      },
      "text/plain": [
       "interactive(children=(Dropdown(description='Category', options=('G', 'PG', 'PG-13', 'R'), value='G'), Output()…"
      ]
     },
     "metadata": {},
     "output_type": "display_data"
    }
   ],
   "source": [
    "def show_boxplot_rating_budget(Category):\n",
    "    sub_df = create_df_of_category (data, \"rating\", Category)\n",
    "       \n",
    "    plt.boxplot(sub_df[budget])\n",
    "    plt.ylabel(\"Ingresos\")\n",
    "    plt.title(\"Boxplot de ingresos en \" + Category)\n",
    "    class_describe(sub_df, budget)\n",
    "        \n",
    "ratings = np.unique(data[rating])\n",
    "interact(show_boxplot_rating_budget, Category=ratings);"
   ]
  },
  {
   "cell_type": "code",
   "execution_count": 63,
   "id": "measured-framing",
   "metadata": {},
   "outputs": [
    {
     "name": "stdout",
     "output_type": "stream",
     "text": [
      "\u001b[1mCálculo (normalizado) de diferencias con la media:\u001b[0m\n",
      "G: la diferencia entre la mediana y el máximo es 0.1869628099173554\n",
      "PG: la diferencia entre la mediana y el máximo es 0.15342657342657343\n",
      "PG-13: la diferencia entre la mediana y el máximo es 0.11883754521963824\n",
      "R: la diferencia entre la mediana y el máximo es 0.08260534722222222\n",
      "\u001b[1mLista ordenada:\u001b[0m\n",
      "G: 0.1869628099173554\n",
      "PG: 0.15342657342657343\n",
      "PG-13: 0.11883754521963824\n",
      "R: 0.08260534722222222\n"
     ]
    }
   ],
   "source": [
    "print(BOLD+\"Cálculo (normalizado) de diferencias con la media:\"+END_BOLD)\n",
    "ratings = np.unique(data[rating])\n",
    "compare_med_list(data, budget, rating, ratings, \"max\")"
   ]
  },
  {
   "cell_type": "markdown",
   "id": "unusual-aggregate",
   "metadata": {},
   "source": [
    "### Análisis\n",
    "* **R**: su presupuesto medio es, más o menos, la mitad que el de PG-13 y PG, pero su recaudación también lo es.\n",
    "* **PG-13**: la varianza hacia arriba (ahora algo negativo) es superior a la de PG, y la media es muy similar. Asimismo, la distancia entre el máximo y la mediana también es ligeramente superior que en PG.\n",
    "* **PG**: a falta de una muestra más grande con películas con clasificación G, se posiciona como la mejor opción tras este análisis."
   ]
  },
  {
   "cell_type": "markdown",
   "id": "italian-ballot",
   "metadata": {},
   "source": [
    "## ¿Y si analizamos los beneficios?"
   ]
  },
  {
   "cell_type": "code",
   "execution_count": 64,
   "id": "afraid-programmer",
   "metadata": {},
   "outputs": [
    {
     "data": {
      "text/html": [
       "<div>\n",
       "<style scoped>\n",
       "    .dataframe tbody tr th:only-of-type {\n",
       "        vertical-align: middle;\n",
       "    }\n",
       "\n",
       "    .dataframe tbody tr th {\n",
       "        vertical-align: top;\n",
       "    }\n",
       "\n",
       "    .dataframe thead th {\n",
       "        text-align: right;\n",
       "    }\n",
       "</style>\n",
       "<table border=\"1\" class=\"dataframe\">\n",
       "  <thead>\n",
       "    <tr style=\"text-align: right;\">\n",
       "      <th></th>\n",
       "      <th>rating</th>\n",
       "      <th>Mean_profits</th>\n",
       "    </tr>\n",
       "  </thead>\n",
       "  <tbody>\n",
       "    <tr>\n",
       "      <th>0</th>\n",
       "      <td>G</td>\n",
       "      <td>47435678.42</td>\n",
       "    </tr>\n",
       "    <tr>\n",
       "      <th>1</th>\n",
       "      <td>PG</td>\n",
       "      <td>27242954.35</td>\n",
       "    </tr>\n",
       "    <tr>\n",
       "      <th>2</th>\n",
       "      <td>PG-13</td>\n",
       "      <td>20108777.67</td>\n",
       "    </tr>\n",
       "    <tr>\n",
       "      <th>3</th>\n",
       "      <td>R</td>\n",
       "      <td>6850172.54</td>\n",
       "    </tr>\n",
       "  </tbody>\n",
       "</table>\n",
       "</div>"
      ],
      "text/plain": [
       "  rating  Mean_profits\n",
       "0      G   47435678.42\n",
       "1     PG   27242954.35\n",
       "2  PG-13   20108777.67\n",
       "3      R    6850172.54"
      ]
     },
     "metadata": {},
     "output_type": "display_data"
    },
    {
     "data": {
      "text/html": [
       "<div>\n",
       "<style scoped>\n",
       "    .dataframe tbody tr th:only-of-type {\n",
       "        vertical-align: middle;\n",
       "    }\n",
       "\n",
       "    .dataframe tbody tr th {\n",
       "        vertical-align: top;\n",
       "    }\n",
       "\n",
       "    .dataframe thead th {\n",
       "        text-align: right;\n",
       "    }\n",
       "</style>\n",
       "<table border=\"1\" class=\"dataframe\">\n",
       "  <thead>\n",
       "    <tr style=\"text-align: right;\">\n",
       "      <th></th>\n",
       "      <th>rating</th>\n",
       "      <th>std_profits</th>\n",
       "    </tr>\n",
       "  </thead>\n",
       "  <tbody>\n",
       "    <tr>\n",
       "      <th>0</th>\n",
       "      <td>G</td>\n",
       "      <td>1.026511e+08</td>\n",
       "    </tr>\n",
       "    <tr>\n",
       "      <th>2</th>\n",
       "      <td>PG-13</td>\n",
       "      <td>8.517531e+07</td>\n",
       "    </tr>\n",
       "    <tr>\n",
       "      <th>1</th>\n",
       "      <td>PG</td>\n",
       "      <td>8.363894e+07</td>\n",
       "    </tr>\n",
       "    <tr>\n",
       "      <th>3</th>\n",
       "      <td>R</td>\n",
       "      <td>4.884346e+07</td>\n",
       "    </tr>\n",
       "  </tbody>\n",
       "</table>\n",
       "</div>"
      ],
      "text/plain": [
       "  rating   std_profits\n",
       "0      G  1.026511e+08\n",
       "2  PG-13  8.517531e+07\n",
       "1     PG  8.363894e+07\n",
       "3      R  4.884346e+07"
      ]
     },
     "metadata": {},
     "output_type": "display_data"
    }
   ],
   "source": [
    "mean_profits_rating = mean_category(data, rating, profits, \"beneficios\")\n",
    "display(mean_profits_rating.sort_values(\"Mean_profits\", ascending=False))\n",
    "\n",
    "std_profits_rating = std_category(data, rating, profits, \"beneficios\")\n",
    "display(std_profits_rating.sort_values(\"std_profits\", ascending=False))"
   ]
  },
  {
   "cell_type": "code",
   "execution_count": 65,
   "id": "russian-fifty",
   "metadata": {},
   "outputs": [
    {
     "data": {
      "application/vnd.jupyter.widget-view+json": {
       "model_id": "1975d3e8c55f491abf6099af354f4256",
       "version_major": 2,
       "version_minor": 0
      },
      "text/plain": [
       "interactive(children=(Dropdown(description='Category', options=('G', 'PG', 'PG-13', 'R'), value='G'), Output()…"
      ]
     },
     "metadata": {},
     "output_type": "display_data"
    }
   ],
   "source": [
    "def show_boxplot_rating_profits(Category):\n",
    "    sub_df = create_df_of_category (data, \"rating\", Category)\n",
    "       \n",
    "    plt.boxplot(sub_df[profits])\n",
    "    plt.ylabel(\"Ingresos\")\n",
    "    plt.title(\"Boxplot de beneficios en \" + Category)\n",
    "    class_describe(sub_df, profits)\n",
    "        \n",
    "ratings = np.unique(data[rating])\n",
    "interact(show_boxplot_rating_profits, Category=ratings);"
   ]
  },
  {
   "cell_type": "markdown",
   "id": "loaded-cassette",
   "metadata": {},
   "source": [
    "### Conclusiones\n",
    "* **R**: presenta mucha varianza hacia arriba y hacia abajo. No es la más recomendable. Es, además, la que menos beneficios genera.\n",
    "* **PG-13 vs PG**: a falta de una mayor muestra con películas de clasificación G, la disputa queda entre PG-13 y PG. PG-13 tiene menores beneficios y una mayor varianza por abajo, mientras PG tiene más beneficios y más ingresos, además de una varianza muy poco pronunciada por abajo y una muy pronunciada por arriba en los beneficios."
   ]
  },
  {
   "cell_type": "markdown",
   "id": "novel-wallace",
   "metadata": {},
   "source": [
    "# Análisis en cuanto al género"
   ]
  },
  {
   "cell_type": "code",
   "execution_count": 66,
   "id": "false-operator",
   "metadata": {},
   "outputs": [
    {
     "data": {
      "image/png": "[encoded data removed]",
      "text/plain": [
       "<Figure size 432x288 with 1 Axes>"
      ]
     },
     "metadata": {
      "needs_background": "light"
     },
     "output_type": "display_data"
    }
   ],
   "source": [
    "plot = data[genre].value_counts().plot(kind='bar', title='Géneros de cine', color=\"y\")"
   ]
  },
  {
   "cell_type": "code",
   "execution_count": 67,
   "id": "found-judgment",
   "metadata": {},
   "outputs": [],
   "source": [
    "dm_budget = mean_category(data, genre, budget, \"presupuesto\")\n",
    "dm_gross = mean_category(data, genre, gross, \"ingresos\")\n",
    "dm_ben = mean_category(data, genre, profits, \"beneficios\")\n",
    "\n",
    "dm_genre = join_df_mean (dm_budget, dm_gross, dm_ben)"
   ]
  },
  {
   "cell_type": "markdown",
   "id": "corporate-radar",
   "metadata": {},
   "source": [
    "### Tabla de contingencia: ingresos\n",
    "* Tabla de contingencia de los ingresos y la clasificación por edades"
   ]
  },
  {
   "cell_type": "code",
   "execution_count": 68,
   "id": "hourly-pharmacy",
   "metadata": {},
   "outputs": [
    {
     "data": {
      "application/vnd.jupyter.widget-view+json": {
       "model_id": "bdb42ab554cd44d8afda7f324980d29f",
       "version_major": 2,
       "version_minor": 0
      },
      "text/plain": [
       "interactive(children=(Dropdown(description='Tabla', options=('Tabla de contingencia', 'Películas por género', …"
      ]
     },
     "metadata": {},
     "output_type": "display_data"
    }
   ],
   "source": [
    "cont_table_gross_genre, cont_table_gross_genre_p = create_crosstab(data, genre, gross_binding)\n",
    "\n",
    "def show_crosstab_tables_gross_genre(Tabla):\n",
    "    if(Tabla == \"Tabla de contingencia\"):\n",
    "        print(BOLD+\"Tabla de contingencia:\"+END_BOLD)\n",
    "        display(cont_table_gross_genre)\n",
    "    \n",
    "    if(Tabla == \"Películas por clasificación\"):\n",
    "        print(BOLD+\"\\nPelículas por clasificación:\"+END_BOLD)\n",
    "        print(cont_table_gross_genre.sum(axis=1))\n",
    "    \n",
    "    if(Tabla == \"Películas por intervalo\"):\n",
    "        print(BOLD+\"\\nPelículas por intervalo:\"+END_BOLD)\n",
    "        print(cont_table_gross_genre.sum(axis=0))\n",
    "    \n",
    "    if(Tabla == \"Tabla de contingencia con probabilidades\"):\n",
    "        print(BOLD+\"\\nTabla de contingencia con probabilidades:\"+END_BOLD)\n",
    "        display(cont_table_gross_genre_p)\n",
    "        \n",
    "interact(show_crosstab_tables_gross_genre, Tabla=[\"Tabla de contingencia\", \"Películas por género\", \n",
    "                        \"Películas por intervalo\", \"Tabla de contingencia con probabilidades\"]);"
   ]
  },
  {
   "cell_type": "markdown",
   "id": "sticky-product",
   "metadata": {},
   "source": [
    "#### ¿Cuál es la probabilidad de que una película tenga unos ingresos entre [gross_bining] si su clasificación es [rating]?"
   ]
  },
  {
   "cell_type": "code",
   "execution_count": 69,
   "id": "turkish-local",
   "metadata": {},
   "outputs": [
    {
     "data": {
      "application/vnd.jupyter.widget-view+json": {
       "model_id": "8cec8dac5b474fd1851ceee996007e5e",
       "version_major": 2,
       "version_minor": 0
      },
      "text/plain": [
       "interactive(children=(Dropdown(description='Genre', options=('Action', 'Adventure', 'Animation', 'Biography', …"
      ]
     },
     "metadata": {},
     "output_type": "display_data"
    }
   ],
   "source": [
    "def show_prob_genre_gross(Genre, Interval):\n",
    "    prob = cont_table_gross_genre_p[Interval][Genre]\n",
    "    prob = round(prob,2)\n",
    "    prob = prob*100\n",
    "    print(BOLD+\"\\nProbability: \"+str(prob)+\"%\"+END_BOLD)\n",
    "    \n",
    "genres = np.unique(data[genre]) \n",
    "interact(show_prob_genre_gross, Genre=genres, Interval=cont_table_gross_genre_p.columns.values.tolist());"
   ]
  },
  {
   "cell_type": "code",
   "execution_count": 70,
   "id": "other-picnic",
   "metadata": {},
   "outputs": [
    {
     "name": "stdout",
     "output_type": "stream",
     "text": [
      "5.261431320962941e-76\n",
      "\u001b[1mEl p-valor es inferior a 0.05 y, por tanto, rechazamos la hipótesis nula. Las dos variables analizadas no son independientes. Podemos afirmar que hay relación entre ellas.\u001b[0m\n"
     ]
    }
   ],
   "source": [
    "test_chi(cont_table_gross_genre)"
   ]
  },
  {
   "cell_type": "markdown",
   "id": "naval-adaptation",
   "metadata": {},
   "source": [
    "### Prueba chi cuadrado: presupuesto"
   ]
  },
  {
   "cell_type": "code",
   "execution_count": 71,
   "id": "lightweight-luxury",
   "metadata": {},
   "outputs": [
    {
     "name": "stdout",
     "output_type": "stream",
     "text": [
      "5.0091344961153675e-171\n",
      "\u001b[1mEl p-valor es inferior a 0.05 y, por tanto, rechazamos la hipótesis nula. Las dos variables analizadas no son independientes. Podemos afirmar que hay relación entre ellas.\u001b[0m\n"
     ]
    }
   ],
   "source": [
    "cont_table_budget_genre, cont_table_budget_genre_p = create_crosstab(data, genre, budget_binding)\n",
    "test_chi(cont_table_budget_genre)"
   ]
  },
  {
   "cell_type": "markdown",
   "id": "controversial-aviation",
   "metadata": {},
   "source": [
    "### Prueba chi cuadrado: presupuesto"
   ]
  },
  {
   "cell_type": "code",
   "execution_count": 72,
   "id": "varied-germany",
   "metadata": {},
   "outputs": [
    {
     "name": "stdout",
     "output_type": "stream",
     "text": [
      "1.5843219175100775e-49\n",
      "\u001b[1mEl p-valor es inferior a 0.05 y, por tanto, rechazamos la hipótesis nula. Las dos variables analizadas no son independientes. Podemos afirmar que hay relación entre ellas.\u001b[0m\n"
     ]
    }
   ],
   "source": [
    "cont_table_profits_genre, cont_table_profits_genre_p = create_crosstab(data, genre, profits_binding)\n",
    "test_chi(cont_table_profits_genre)"
   ]
  },
  {
   "cell_type": "markdown",
   "id": "hollywood-brazilian",
   "metadata": {},
   "source": [
    "### Conclusiones: ingresos, presupuesto, beneficios y géneros\n",
    "La variable de los géneros está correlacionada con los ingresos, beneficios y presupuesto, tal y como se acaba de demostrar con los test Chi Cuadrado."
   ]
  },
  {
   "cell_type": "markdown",
   "id": "strange-registrar",
   "metadata": {},
   "source": [
    "### Medias de ingresos, presupuesto y beneficios en función del género"
   ]
  },
  {
   "cell_type": "code",
   "execution_count": 73,
   "id": "confused-brooklyn",
   "metadata": {},
   "outputs": [
    {
     "data": {
      "application/vnd.jupyter.widget-view+json": {
       "model_id": "25d557e808a54613ab20c339c45bfe6e",
       "version_major": 2,
       "version_minor": 0
      },
      "text/plain": [
       "interactive(children=(Dropdown(description='OrderBy', options=('Mean_budget', 'Mean_gross', 'Mean_profits'), v…"
      ]
     },
     "metadata": {},
     "output_type": "display_data"
    }
   ],
   "source": [
    "def show_ascending_genres_by_mean(OrderBy):\n",
    "    display(dm_genre.sort_values(OrderBy, ascending=False))\n",
    "interact(show_ascending_genres_by_mean, OrderBy=['Mean_budget','Mean_gross', 'Mean_profits']);"
   ]
  },
  {
   "cell_type": "markdown",
   "id": "known-movie",
   "metadata": {},
   "source": [
    "**Los géneros más caros de media son:**\n",
    "* Género[Animation]: 101 940 600\n",
    "* Género[Action]: 84 355 610\n",
    "* Género[Adventure]: 71 629 110\n",
    "* Género[Mystery]: 50 372 220\n",
    "* Género[Family]: 37 035 170.0\n",
    "\n",
    "**Los géneros que más ingresan de media son:**\n",
    "* Género[Animation]: 145 774 000\n",
    "* Género[Adventure]: 98 875 820\n",
    "* Género[Action]: 97 376 480\n",
    "* Género[Mystery]: 63 283 720\n",
    "* Género[Comedy]: 54 795 660\n",
    "\n",
    "**Los géneros con mayor beneficio o menor déficit de media son:**\n",
    "* Género[Animation]: 43 833 391.92\n",
    "* Género[Adventure]: 27 246 712.57\n",
    "* Género[Horror]: 22 446 484.51\n",
    "* Género[Comedy]: 18 822 295.28\n",
    "* Género[Action]: 13 020 871.15\n",
    "* Género[Mystery]: 12 911 499.24\n",
    "* Género[Biography]: 10 224 750.07"
   ]
  },
  {
   "cell_type": "markdown",
   "id": "exceptional-reporter",
   "metadata": {},
   "source": [
    "**Los géneros y el Coeficiente de Pearson**"
   ]
  },
  {
   "cell_type": "code",
   "execution_count": 74,
   "id": "particular-incentive",
   "metadata": {},
   "outputs": [
    {
     "data": {
      "application/vnd.jupyter.widget-view+json": {
       "model_id": "1b2423bb5b1d41299624e37ede701d23",
       "version_major": 2,
       "version_minor": 0
      },
      "text/plain": [
       "interactive(children=(Dropdown(description='Genre', options=('Action', 'Adventure', 'Animation', 'Biography', …"
      ]
     },
     "metadata": {},
     "output_type": "display_data"
    }
   ],
   "source": [
    "def show_corr_genre(Genre):\n",
    "    data_corr_genre = create_df_of_category(data, genre, Genre)\n",
    "    show_corr_data(data_corr_genre)\n",
    "    \n",
    "genres = np.unique(data[genre])\n",
    "\n",
    "interact(show_corr_genre, Genre=genres);"
   ]
  },
  {
   "cell_type": "markdown",
   "id": "exempt-musical",
   "metadata": {},
   "source": [
    "**El género de terror tiene un coeficiente de 0.89 entre ingresos y benificios, sólo un 0.34 entre ingresos y presupuesto, y un -0.13 entre beneficios y presupuesto. Esto quizá se vea influido por el llamado cine de \"Serie B\" (de bajos costes y no muy buena calidad), muy frecuente en el género de terror y, también, muy de moda en décadas pasadas. ¿Podría ser que el cine de terror ahora no fuera tan barato?**"
   ]
  },
  {
   "cell_type": "code",
   "execution_count": 75,
   "id": "dangerous-reggae",
   "metadata": {},
   "outputs": [],
   "source": [
    "data_horror = create_df_of_category(data, genre, \"Horror\")\n",
    "\n",
    "a = np.array([1986, 1987, 1988, 1989, 1990, 1991, 1992, 1993, 1994, 1995, 1996])\n",
    "data_horror_90 = data_horror[data_horror.year.isin(a)]\n",
    "\n",
    "b = np.array([2010, 2011, 2012, 2013, 2014, 2015, 2016])\n",
    "data_horror_10 = data_horror[data_horror.year.isin(b)]\n"
   ]
  },
  {
   "cell_type": "code",
   "execution_count": 76,
   "id": "municipal-blend",
   "metadata": {},
   "outputs": [
    {
     "name": "stdout",
     "output_type": "stream",
     "text": [
      "Número de películas de terror entre 1986-1996:\n",
      "Horror -> 54\n",
      "Número de películas de terror entre 2010-2016:\n",
      "Horror -> 64\n",
      "Media del presupuesto entre 1986-1996: 16645351.851851853\n",
      "Desviación típica del presupuesto entre 1986-1996: 15906277.607494928\n",
      "Media del presupuesto entre 2010-2011: 12583390.625\n",
      "Desviación típica del presupuesto entre 2010-2011: 13286958.743315846\n"
     ]
    }
   ],
   "source": [
    "values_genre = data_horror_90[genre].value_counts().to_dict()\n",
    "print(\"Número de películas de terror entre 1986-1996:\")\n",
    "for key in values_genre:\n",
    "    print(key, '->', values_genre[key])\n",
    "    \n",
    "values_genre = data_horror_10[genre].value_counts().to_dict()\n",
    "print(\"Número de películas de terror entre 2010-2016:\")\n",
    "for key in values_genre:\n",
    "    print(key, '->', values_genre[key])\n",
    "    \n",
    "print(\"Media del presupuesto entre 1986-1996: \" + str(data_horror_90[budget].mean()))\n",
    "print(\"Desviación típica del presupuesto entre 1986-1996: \" + str(data_horror_90[budget].std()))\n",
    "print(\"Media del presupuesto entre 2010-2011: \" + str(data_horror_10[budget].mean()))\n",
    "print(\"Desviación típica del presupuesto entre 2010-2011: \" + str(data_horror_10[budget].std()))"
   ]
  },
  {
   "cell_type": "code",
   "execution_count": 77,
   "id": "natural-mortgage",
   "metadata": {},
   "outputs": [
    {
     "data": {
      "application/vnd.jupyter.widget-view+json": {
       "model_id": "e3cd4d82cfb643d5aac9228cd941686f",
       "version_major": 2,
       "version_minor": 0
      },
      "text/plain": [
       "interactive(children=(Dropdown(description='Option', options=('1986-1996', '2010-2011'), value='1986-1996'), O…"
      ]
     },
     "metadata": {},
     "output_type": "display_data"
    }
   ],
   "source": [
    "def show_corr_horror(Option):\n",
    "    if(Option == \"1986-1996\"):\n",
    "        show_corr_data(data_horror_90)\n",
    "    else:\n",
    "        show_corr_data(data_horror_10)\n",
    "    \n",
    "interact(show_corr_horror, Option=[\"1986-1996\", \"2010-2011\"]);"
   ]
  },
  {
   "cell_type": "markdown",
   "id": "thorough-scheme",
   "metadata": {},
   "source": [
    "**Tras este breve análisis, se observa que el presupuesto de las películas de terror en los 80 y 90 era incluso superior al de ahora.**"
   ]
  },
  {
   "cell_type": "markdown",
   "id": "accurate-reception",
   "metadata": {},
   "source": [
    "**Debido al gran número de géneros, a continuación se van a comparar los que mayores ingresos y beneficios tienen: animación, aventura, terror, comedia, acción, misterio y biografía/basado en hechos reales**."
   ]
  },
  {
   "cell_type": "code",
   "execution_count": 78,
   "id": "mobile-pendant",
   "metadata": {},
   "outputs": [
    {
     "data": {
      "application/vnd.jupyter.widget-view+json": {
       "model_id": "1e0b63a1f07740629a34533937e4e548",
       "version_major": 2,
       "version_minor": 0
      },
      "text/plain": [
       "interactive(children=(Dropdown(description='Genre', options=('Animation', 'Adventure', 'Horror', 'Comedy', 'Ac…"
      ]
     },
     "metadata": {},
     "output_type": "display_data"
    }
   ],
   "source": [
    "def show_hist_by_genre(Genre, Category):\n",
    "    \n",
    "    df = create_df_of_category(data, \"genre\", Genre)\n",
    "    k = sturges(df)\n",
    "       \n",
    "    column = select_option(Category)\n",
    "       \n",
    "    plt.hist(df[column], bins = k)\n",
    "    plt.xlabel(Category)\n",
    "    plt.ylabel(\"Frecuencia\")\n",
    "    plt.title(Genre + \": Histograma de \" + Category)\n",
    "    \n",
    "genres = [\"Animation\", \"Adventure\", \"Horror\", \"Comedy\", \"Action\", \"Mystery\", \"Biography\"]\n",
    "        \n",
    "interact(show_hist_by_genre, Genre = genres, Category=[\"Ingresos\", \"Beneficios\", \"Presupuesto\"]);"
   ]
  },
  {
   "cell_type": "code",
   "execution_count": 79,
   "id": "british-hormone",
   "metadata": {},
   "outputs": [
    {
     "name": "stdout",
     "output_type": "stream",
     "text": [
      "Desviaciones típicas:\n"
     ]
    },
    {
     "data": {
      "application/vnd.jupyter.widget-view+json": {
       "model_id": "5f15e6fee98949b4a24606e7bf15d2b2",
       "version_major": 2,
       "version_minor": 0
      },
      "text/plain": [
       "interactive(children=(Dropdown(description='Option', options=('Ingresos', 'Beneficios', 'Presupuesto'), value=…"
      ]
     },
     "metadata": {},
     "output_type": "display_data"
    }
   ],
   "source": [
    "def show_std_genre(Option):\n",
    "    \n",
    "    option = select_option(Option)\n",
    "\n",
    "    std_genre = std_category(data, genre, option, Option)\n",
    "    std_genre= std_genre.loc[std_genre['genre'].isin(genres)]\n",
    "\n",
    "    display(std_genre.sort_values(\"std_\" + option, ascending=False))\n",
    "print(\"Desviaciones típicas:\")\n",
    "genres = [\"Animation\", \"Adventure\", \"Horror\", \"Comedy\", \"Action\", \"Mystery\", \"Biography\"]\n",
    "interact(show_std_genre, Option=[\"Ingresos\", \"Beneficios\", \"Presupuesto\"]);"
   ]
  },
  {
   "cell_type": "code",
   "execution_count": 80,
   "id": "circular-compatibility",
   "metadata": {},
   "outputs": [
    {
     "data": {
      "application/vnd.jupyter.widget-view+json": {
       "model_id": "0bb90b7fde0c4127a2f0ba70ff928c5b",
       "version_major": 2,
       "version_minor": 0
      },
      "text/plain": [
       "interactive(children=(Dropdown(description='Category', options=('Animation', 'Adventure', 'Horror', 'Comedy', …"
      ]
     },
     "metadata": {},
     "output_type": "display_data"
    }
   ],
   "source": [
    "def show_boxplot_genre(Category, Option):\n",
    "    sub_df = create_df_of_category (data, \"genre\", Category)\n",
    "    \n",
    "    option = select_option(Option)\n",
    "       \n",
    "    plt.boxplot(sub_df[option])\n",
    "    plt.ylabel(Option)\n",
    "    plt.title(\"Boxplot de \" + Option + \" en \" + Category)\n",
    "    class_describe(sub_df, option)\n",
    "    \n",
    "genres = [\"Animation\", \"Adventure\", \"Horror\", \"Comedy\", \"Action\", \"Mystery\", \"Biography\"]\n",
    "interact(show_boxplot_genre, Category=genres, Option=[\"Ingresos\", \"Beneficios\", \"Presupuesto\"]);"
   ]
  },
  {
   "cell_type": "code",
   "execution_count": 81,
   "id": "supreme-letters",
   "metadata": {},
   "outputs": [
    {
     "data": {
      "application/vnd.jupyter.widget-view+json": {
       "model_id": "49448915a6224bf089461fff83a66c06",
       "version_major": 2,
       "version_minor": 0
      },
      "text/plain": [
       "interactive(children=(Dropdown(description='Data', options=('Ingresos', 'Beneficios', 'Presupuesto'), value='I…"
      ]
     },
     "metadata": {},
     "output_type": "display_data"
    }
   ],
   "source": [
    "def show_meds_genre(Data, Distancia):\n",
    "    option = select_option(Data)\n",
    "    print(BOLD+\"Cálculo (normalizado) de diferencias con la mediana:\"+END_BOLD)\n",
    "    compare_med_list(data, option, genre, genres, Distancia)\n",
    "\n",
    "genres = [\"Animation\", \"Adventure\", \"Horror\", \"Comedy\", \"Action\", \"Mystery\", \"Biography\"]\n",
    "interact(show_meds_genre, Data=[\"Ingresos\", \"Beneficios\", \"Presupuesto\"], Distancia=[\"max\", \"min\"]);"
   ]
  },
  {
   "cell_type": "markdown",
   "id": "upset-plain",
   "metadata": {},
   "source": [
    "### Ingresos:\n",
    "* **Animación (145 774 000 dólares):** el género que más ingresa, con mucha diferencia. Su varianza hacia arriba también es la más alta. Tiene un IQR muy elevado y su distancia entre la mediana y el mínimo es la mayor.\n",
    "* **Aventura (98 875 820 dólares):** el segundo género que más ingresa, con la segunda varianza más alta hacia arriba, pero con un IQR bajo y una distancia entre la mediana y el mínimo de las más reducidas.\n",
    "* **Acción (97 376 480 dólares):** le sucede lo mismo que al género de aventura. A pesar de ser el tercero en media y varianza, tiene un IQR bajo y la segunda menor diferencia entre el mínimo y la mediana.\n",
    "* **Misterio (63 283 720 dólares):** ingresa menos que los dos anteriores, pero su distancia con la mediana y el mínimo es mayor. Su IQR no es tan bajo.\n",
    "* **Comedia (54 795 660 dólares):** también tiene un IQR bajo y la menor distancia entre el mínimo y la mediana. Muchos más outliers que el género de misterio.\n",
    "* **Basado en hechos reales (46 00 0630 dólares):** tiene un IQR mayor y la distancia entre el mínimo y la mediana se aleja.\n",
    "* **Terror (43 034 330 dólares):** tiene un IQR grande y la segunda mayor distancia entre el mínimo y la mediana, aunque sus ingresos sean, de media, los más bajos."
   ]
  },
  {
   "cell_type": "markdown",
   "id": "finished-maple",
   "metadata": {},
   "source": [
    "### Presupuesto:\n",
    "* **Animación:** es el género más caro, con una varianza muy alta por arriba, aunque con pocos outliers. Su distancia entre la mediana y el máximo es la mayor de todas.\n",
    "\n",
    "* **Acción:** el segundo género más caro, con la varianza más alta por arriba, con muchos outliers.\n",
    "\n",
    "* **Aventura:** el tercer género más caro y la tercera varianza más alta por arriba. Se posiciona como mejor opción que el género de acción, pues ingresa más y su varianza hacia arriba respecto a los gastos es inferior.\n",
    "\n",
    "* **Misterio:** es un género más barato, con menor varianza por arriba y menos outliers, pero la segunda diferencia más alta entre el máximo y la mediana.\n",
    "\n",
    "* **Comedia:** presenta unos datos similares a los de misterio, aunque la diferencia entre el máximo y la mediana es la menor de todas.\n",
    "\n",
    "* **Basado en hechos reales:** tiene una media de presupuesto de 35M, con una varianza baja por arriba y pocos outliers. Además, la distancia entre la mediana y el máximo es la tercer más alta.\n",
    "\n",
    "* **Terror:** el género de terror es el más barato de todos, con 20M de media. Presenta la varianza más baja por arriba."
   ]
  },
  {
   "cell_type": "markdown",
   "id": "incident-vinyl",
   "metadata": {},
   "source": [
    "### Beneficios:\n",
    "* **Acción:** no es de los que más beneficios produce y tiene una varianza pronunciada por abajo. Además, es muy caro. \n",
    "\n",
    "* **Aventura:** el género de aventura ingresa más y gasta menos. No tiene apenas varianza por abajo. Sin embargo, su IQR sí es bajo. Solo recomendable para presupuestos elevados.\n",
    "\n",
    "* **Animación:** es el género más caro, pero también el que más beneficios genera, con la mayor varianza por arriba y mucha distancia entre el mínimo y la mediana. Es un género muy recomendabla para presupuestos elevados, mejor que aventura.\n",
    "\n",
    "* **Terror:** el género más barato y el tercero que más beneficios produce. Tiene muchos outliers por arriba y, aunque su varianza sea baja, la diferencia entre el mínimo y la mediana es la tercera más alta. Es un género muy recomendable para presupuestos más bajos.\n",
    "\n",
    "* **Comedia:** tiene un IQR muy bajo, con la varianza pronunciada también por abajo. No es muy recomendable.\n",
    "\n",
    "* **Misterio:** no presenta muchas ganancias ni outliers. Una varianza apenas pronunciada, tanto por arriba como por abajo.\n",
    "* **Basado en hechos reales:** la varianza es mayor, sobre todo por arriba. Se presenta como una mejor opción a misterio por su bajo coste."
   ]
  },
  {
   "cell_type": "markdown",
   "id": "fluid-harrison",
   "metadata": {},
   "source": [
    "# Análisis en cuanto al mes de estreno"
   ]
  },
  {
   "cell_type": "code",
   "execution_count": 82,
   "id": "convinced-continuity",
   "metadata": {},
   "outputs": [
    {
     "data": {
      "image/png": "[encoded data removed]",
      "text/plain": [
       "<Figure size 432x288 with 1 Axes>"
      ]
     },
     "metadata": {
      "needs_background": "light"
     },
     "output_type": "display_data"
    }
   ],
   "source": [
    "plot = data[month].value_counts().plot(kind='bar', title='Meses de estreno', color=\"y\")"
   ]
  },
  {
   "cell_type": "markdown",
   "id": "architectural-testimony",
   "metadata": {},
   "source": [
    "#### ¿Están relacionados los ingresos y el mes de estreno?"
   ]
  },
  {
   "cell_type": "code",
   "execution_count": 83,
   "id": "controlling-upper",
   "metadata": {},
   "outputs": [
    {
     "name": "stdout",
     "output_type": "stream",
     "text": [
      "8.872240838949593e-75\n",
      "\u001b[1mEl p-valor es inferior a 0.05 y, por tanto, rechazamos la hipótesis nula. Las dos variables analizadas no son independientes. Podemos afirmar que hay relación entre ellas.\u001b[0m\n"
     ]
    }
   ],
   "source": [
    "cont_table_gross_month, cont_table = create_crosstab(data, month, gross_binding)\n",
    "test_chi(cont_table_gross_month)"
   ]
  },
  {
   "cell_type": "markdown",
   "id": "consolidated-lobby",
   "metadata": {},
   "source": [
    "#### ¿Están relacionados el presupuesto y el mes de estreno?"
   ]
  },
  {
   "cell_type": "code",
   "execution_count": 84,
   "id": "bound-equilibrium",
   "metadata": {},
   "outputs": [
    {
     "name": "stdout",
     "output_type": "stream",
     "text": [
      "1.7655957916116426e-60\n",
      "\u001b[1mEl p-valor es inferior a 0.05 y, por tanto, rechazamos la hipótesis nula. Las dos variables analizadas no son independientes. Podemos afirmar que hay relación entre ellas.\u001b[0m\n"
     ]
    }
   ],
   "source": [
    "cont_table_budget_month, cont_table = create_crosstab(data, month, budget_binding)\n",
    "test_chi(cont_table_budget_month)"
   ]
  },
  {
   "cell_type": "markdown",
   "id": "familiar-kentucky",
   "metadata": {},
   "source": [
    "#### ¿Están relacionados los beneficios y el mes de estreno?"
   ]
  },
  {
   "cell_type": "code",
   "execution_count": 85,
   "id": "amazing-homeless",
   "metadata": {},
   "outputs": [
    {
     "name": "stdout",
     "output_type": "stream",
     "text": [
      "3.526660690562893e-20\n",
      "\u001b[1mEl p-valor es inferior a 0.05 y, por tanto, rechazamos la hipótesis nula. Las dos variables analizadas no son independientes. Podemos afirmar que hay relación entre ellas.\u001b[0m\n"
     ]
    }
   ],
   "source": [
    "cont_table_profits_month, cont_table = create_crosstab(data, month, profits_binding)\n",
    "test_chi(cont_table_profits_month)"
   ]
  },
  {
   "cell_type": "code",
   "execution_count": 86,
   "id": "junior-excellence",
   "metadata": {},
   "outputs": [
    {
     "name": "stdout",
     "output_type": "stream",
     "text": [
      "Desviaciones típicas:\n"
     ]
    },
    {
     "data": {
      "application/vnd.jupyter.widget-view+json": {
       "model_id": "0d3b3db2f2be47bdb5ac5e95895dc55f",
       "version_major": 2,
       "version_minor": 0
      },
      "text/plain": [
       "interactive(children=(Dropdown(description='Data', options=('Ingresos', 'Beneficios', 'Presupuesto'), value='I…"
      ]
     },
     "metadata": {},
     "output_type": "display_data"
    },
    {
     "data": {
      "text/plain": [
       "<function __main__.show_stdmean_month(Data)>"
      ]
     },
     "execution_count": 86,
     "metadata": {},
     "output_type": "execute_result"
    }
   ],
   "source": [
    "def show_stdmean_month(Data):\n",
    "    \n",
    "    option = select_option(Data)\n",
    "\n",
    "\n",
    "    result = mean_category(data, month, option, Data)\n",
    "\n",
    "\n",
    "\n",
    "    display(result.sort_values(\"Mean_\" + option, ascending=False))\n",
    "    \n",
    "print(\"Desviaciones típicas:\")\n",
    "months = np.unique(data[month])\n",
    "interact(show_stdmean_month, Data=[\"Ingresos\", \"Beneficios\", \"Presupuesto\"])"
   ]
  },
  {
   "cell_type": "markdown",
   "id": "confused-airline",
   "metadata": {},
   "source": [
    "Vemos que apenas hay variación. Las películas que se estrenan en los meses de junio, mayo, diciembre, julio y noviembre son las que más ingresan, pero también las que mayor presupuesto tienen. Lo que se ha recomendado en anteriores apartados es:\n",
    "* Clasificación por edades: PG\n",
    "* Género: animación y aventura para altos presupuestos y terror y basado en hechos reales para bajos presupuestos."
   ]
  },
  {
   "cell_type": "code",
   "execution_count": 87,
   "id": "wired-penalty",
   "metadata": {},
   "outputs": [
    {
     "data": {
      "image/png": "[encoded data removed]",
      "text/plain": [
       "<Figure size 432x288 with 1 Axes>"
      ]
     },
     "metadata": {
      "needs_background": "light"
     },
     "output_type": "display_data"
    }
   ],
   "source": [
    "data_PG = create_df_of_category(data, rating, \"PG\")\n",
    "plot = data_PG[genre].value_counts().plot(kind='bar', title='Género en la clasificación PG', color=\"g\")"
   ]
  },
  {
   "cell_type": "code",
   "execution_count": 88,
   "id": "stuffed-matthew",
   "metadata": {},
   "outputs": [
    {
     "data": {
      "image/png": "[encoded data removed]",
      "text/plain": [
       "<Figure size 432x288 with 1 Axes>"
      ]
     },
     "metadata": {
      "needs_background": "light"
     },
     "output_type": "display_data"
    }
   ],
   "source": [
    "data_Animation = create_df_of_category(data, genre, \"Animation\")\n",
    "plot = data_Animation[rating].value_counts().plot(kind='bar', title='Clasificaciones en animación', color=\"b\")"
   ]
  },
  {
   "cell_type": "code",
   "execution_count": 89,
   "id": "constant-straight",
   "metadata": {},
   "outputs": [
    {
     "data": {
      "image/png": "[encoded data removed]",
      "text/plain": [
       "<Figure size 432x288 with 1 Axes>"
      ]
     },
     "metadata": {
      "needs_background": "light"
     },
     "output_type": "display_data"
    }
   ],
   "source": [
    "plot = data_Animation[month].value_counts().plot(kind='bar', title='Meses con más estrenos de animación', color=\"g\")"
   ]
  },
  {
   "cell_type": "code",
   "execution_count": 90,
   "id": "dying-garbage",
   "metadata": {},
   "outputs": [
    {
     "data": {
      "image/png": "[encoded data removed]",
      "text/plain": [
       "<Figure size 432x288 with 1 Axes>"
      ]
     },
     "metadata": {
      "needs_background": "light"
     },
     "output_type": "display_data"
    }
   ],
   "source": [
    "data_Adventure = create_df_of_category(data, genre, \"Adventure\")\n",
    "plot = data_Animation[rating].value_counts().plot(kind='bar', title='Clasificaciones en aventura', color=\"b\")"
   ]
  },
  {
   "cell_type": "code",
   "execution_count": 91,
   "id": "taken-shirt",
   "metadata": {},
   "outputs": [
    {
     "data": {
      "image/png": "[encoded data removed]",
      "text/plain": [
       "<Figure size 432x288 with 1 Axes>"
      ]
     },
     "metadata": {
      "needs_background": "light"
     },
     "output_type": "display_data"
    }
   ],
   "source": [
    "plot = data_Adventure[month].value_counts().plot(kind='bar', title='Meses con más estrenos de aventura', color=\"g\")"
   ]
  },
  {
   "cell_type": "code",
   "execution_count": 92,
   "id": "absolute-projection",
   "metadata": {},
   "outputs": [
    {
     "data": {
      "image/png": "[encoded data removed]",
      "text/plain": [
       "<Figure size 432x288 with 1 Axes>"
      ]
     },
     "metadata": {
      "needs_background": "light"
     },
     "output_type": "display_data"
    }
   ],
   "source": [
    "data_biography = create_df_of_category(data, genre, \"Biography\")\n",
    "plot = data_biography[rating].value_counts().plot(kind='bar', title='Clasificaciones en basado en hechos reales', color=\"m\")"
   ]
  },
  {
   "cell_type": "code",
   "execution_count": 93,
   "id": "amber-premiere",
   "metadata": {},
   "outputs": [
    {
     "data": {
      "image/png": "[encoded data removed]",
      "text/plain": [
       "<Figure size 432x288 with 1 Axes>"
      ]
     },
     "metadata": {
      "needs_background": "light"
     },
     "output_type": "display_data"
    }
   ],
   "source": [
    "plot = data_biography[month].value_counts().plot(kind='bar', title='Meses con más estrenos de basado en hechos reales', color=\"k\")"
   ]
  },
  {
   "cell_type": "code",
   "execution_count": 94,
   "id": "chief-tactics",
   "metadata": {},
   "outputs": [
    {
     "data": {
      "image/png": "[encoded data removed]",
      "text/plain": [
       "<Figure size 432x288 with 1 Axes>"
      ]
     },
     "metadata": {
      "needs_background": "light"
     },
     "output_type": "display_data"
    }
   ],
   "source": [
    "data_horror = create_df_of_category(data, genre, \"Horror\")\n",
    "plot = data_horror[rating].value_counts().plot(kind='bar', title='Clasificaciones en terror', color=\"r\")"
   ]
  },
  {
   "cell_type": "code",
   "execution_count": 95,
   "id": "virgin-potential",
   "metadata": {},
   "outputs": [
    {
     "data": {
      "image/png": "[encoded data removed]",
      "text/plain": [
       "<Figure size 432x288 with 1 Axes>"
      ]
     },
     "metadata": {
      "needs_background": "light"
     },
     "output_type": "display_data"
    }
   ],
   "source": [
    "plot = data_horror[month].value_counts().plot(kind='bar', title='Meses con más estrenos de terror', color=\"c\")"
   ]
  },
  {
   "cell_type": "code",
   "execution_count": 96,
   "id": "humanitarian-tulsa",
   "metadata": {},
   "outputs": [
    {
     "data": {
      "application/vnd.jupyter.widget-view+json": {
       "model_id": "bac2cb19510c4710adfe7c3237b62e29",
       "version_major": 2,
       "version_minor": 0
      },
      "text/plain": [
       "interactive(children=(Dropdown(description='Category', options=('Animation', 'Adventure', 'Horror', 'Comedy', …"
      ]
     },
     "metadata": {},
     "output_type": "display_data"
    }
   ],
   "source": [
    "\n",
    "def show_boxplot_PG(Category, Option):\n",
    "    sub_df = create_df_of_category (data, \"genre\", Category)\n",
    "    \n",
    "    option = select_option(Option)\n",
    "       \n",
    "    plt.boxplot(sub_df[option])\n",
    "    plt.ylabel(Option)\n",
    "    plt.title(\"Boxplot de \" + Option + \" en \" + Category)\n",
    "    class_describe(sub_df, option)\n",
    "    \n",
    "genres = [\"Animation\", \"Adventure\", \"Horror\", \"Comedy\", \"Biography\"]\n",
    "interact(show_boxplot_PG, Category=genres, Option=[\"Ingresos\", \"Beneficios\", \"Presupuesto\"]);"
   ]
  },
  {
   "cell_type": "code",
   "execution_count": 97,
   "id": "backed-brand",
   "metadata": {},
   "outputs": [
    {
     "name": "stdout",
     "output_type": "stream",
     "text": [
      "Media de películas por director: 2.46286329386437\n",
      "Percentil 75 de las películas por director: 3.0\n",
      "\n",
      "Media de películas por actor/actriz: 2.920229738353542\n",
      "Percentil 75 de las películas por actor/actriz: 3.0\n",
      "\n",
      "Media de películas por compañía: 3.5308641975308643\n",
      "Percentil 75 de las películas por compañía: 2.0\n",
      "\n",
      "Media de películas por país: 104.0\n",
      "Percentil 75 de las películas por país: 12.25\n",
      "\n",
      "Número de directores que pasan el sesgo: 536\n",
      "Películas en total para ese sesgo con directores: 2927\n",
      "\n",
      "Número de actores/actrices que pasan el sesgo: 432\n",
      "Películas en total para ese sesgo con actores/actrices: 2293\n",
      "\n",
      "Número de compañías que pasan el sesgo: 47\n",
      "Películas en total para ese sesgo con compañías: 1560\n",
      "\n",
      "Número de países que pasan el sesgo: 33\n",
      "Películas en total para ese sesgo con países: 1560\n",
      "\n",
      "Películas en total: 1560\n",
      "Películas en total tras eliminar posibles duplicados: 1560\n"
     ]
    }
   ],
   "source": [
    "limit_director = 3\n",
    "limit_star = 3\n",
    "limit_company = 10\n",
    "limit_country = 2\n",
    "\n",
    "data_directors = create_df_with_freq('director', 'director')\n",
    "data_stars = create_df_with_freq('star', 'actor/actriz')\n",
    "data_companies = create_df_with_freq('company', \"compañía\")\n",
    "data_country = create_df_with_freq('country', \"país\")\n",
    "\n",
    "d1 = create_df_with_restrictions(data_directors, data, director, limit_director, \"directores\")\n",
    "d2 = create_df_with_restrictions(data_stars, d1, star, limit_star, \"actores/actrices\")\n",
    "d3 = create_df_with_restrictions(data_companies, d2, company, limit_company, \"compañías\")\n",
    "d4 = create_df_with_restrictions(data_country, d3, country, limit_country, \"países\")\n",
    "data_b = d4\n",
    "\n",
    "print(\"Películas en total: \" + str(len(data_b)))\n",
    "\n",
    "data_b = data_b.drop_duplicates()\n",
    "print(\"Películas en total tras eliminar posibles duplicados: \" + str(len(data_b)))"
   ]
  },
  {
   "cell_type": "code",
   "execution_count": 98,
   "id": "institutional-flashing",
   "metadata": {},
   "outputs": [],
   "source": [
    "data_for_model = data.copy()\n",
    "data_for_model.columns.values\n",
    "data_for_model[\"gross_binding_cat\"] = data_for_model[\"gross_binding\"].cat.codes"
   ]
  },
  {
   "cell_type": "code",
   "execution_count": 99,
   "id": "occupational-ecuador",
   "metadata": {},
   "outputs": [],
   "source": [
    "X = data_for_model[[\"genre\",\"profits\"]]\n",
    "Y = data_for_model[\"success\"]\n",
    "X = pd.get_dummies(X, columns=[\"genre\"])"
   ]
  },
  {
   "cell_type": "code",
   "execution_count": 100,
   "id": "toxic-church",
   "metadata": {},
   "outputs": [],
   "source": [
    "X_train, X_test, Y_train, Y_test = train_test_split(X,Y, test_size = 0.3, random_state=seed)\n",
    "lm = LogisticRegression(max_iter=10000)\n",
    "lm.fit(X_train, Y_train)\n",
    "prediction = lm.predict(X_test)"
   ]
  },
  {
   "cell_type": "code",
   "execution_count": 101,
   "id": "practical-employer",
   "metadata": {},
   "outputs": [],
   "source": [
    "data_for_model = data_b.copy()\n",
    "data_for_model.columns.values\n",
    "data_for_model[\"gross_binding_cat\"] = data_for_model[\"gross_binding\"].cat.codes"
   ]
  },
  {
   "cell_type": "code",
   "execution_count": 102,
   "id": "closing-youth",
   "metadata": {},
   "outputs": [],
   "source": [
    "X = data_for_model[[\"budget\", \"genre\", \"country\", \"director\", \"company\", \"star\"]]\n",
    "Y = data_for_model[\"gross_binding_cat\"]\n",
    "X = pd.get_dummies(X, columns=[\"genre\", \"country\", \"director\", \"company\", \"star\"])\n",
    "X_train, X_test, Y_train, Y_test = train_test_split(X,Y, test_size = 0.3, random_state=seed)"
   ]
  },
  {
   "cell_type": "code",
   "execution_count": 103,
   "id": "material-junior",
   "metadata": {},
   "outputs": [
    {
     "data": {
      "text/plain": [
       "0.4017094017094017"
      ]
     },
     "execution_count": 103,
     "metadata": {},
     "output_type": "execute_result"
    }
   ],
   "source": [
    "X_train, X_test, Y_train, Y_test = train_test_split(X,Y, test_size = 0.3, random_state=seed)\n",
    "lm = LogisticRegression(max_iter=10000)\n",
    "lm.fit(X_train, Y_train)\n",
    "prediction = lm.predict(X_test)\n",
    "metrics.accuracy_score(Y_test, prediction)"
   ]
  },
  {
   "cell_type": "code",
   "execution_count": 104,
   "id": "presidential-marine",
   "metadata": {},
   "outputs": [
    {
     "name": "stdout",
     "output_type": "stream",
     "text": [
      "Accuracy Tree: 0.3888888888888889\n"
     ]
    }
   ],
   "source": [
    "clf = DecisionTreeClassifier()\n",
    "clf = clf.fit(X_train,Y_train)\n",
    "Y_pred = clf.predict(X_test)\n",
    "print(\"Accuracy Tree:\",metrics.accuracy_score(Y_test, Y_pred))"
   ]
  },
  {
   "cell_type": "code",
   "execution_count": 105,
   "id": "appointed-lodging",
   "metadata": {},
   "outputs": [
    {
     "name": "stdout",
     "output_type": "stream",
     "text": [
      "Accuracy: 0.3995726495726496\n"
     ]
    }
   ],
   "source": [
    "clf = DecisionTreeClassifier(criterion=\"entropy\", max_depth=10)\n",
    "clf = clf.fit(X_train,Y_train)\n",
    "Y_pred = clf.predict(X_test)\n",
    "print(\"Accuracy:\",metrics.accuracy_score(Y_test, Y_pred))"
   ]
  },
  {
   "cell_type": "markdown",
   "id": "similar-photographer",
   "metadata": {},
   "source": [
    "# Predicción de la variable presupuestos"
   ]
  },
  {
   "cell_type": "code",
   "execution_count": 106,
   "id": "warming-german",
   "metadata": {},
   "outputs": [],
   "source": [
    "data_for_model = data.copy()\n",
    "data_for_model.columns.values\n",
    "data_for_model[\"gross_binding_cat\"] = data_for_model[\"gross_binding\"].cat.codes"
   ]
  },
  {
   "cell_type": "code",
   "execution_count": 107,
   "id": "wound-simon",
   "metadata": {},
   "outputs": [],
   "source": [
    "X = data_for_model[[\"gross\", \"runtime\", \"year\", \"genre\", \"rating\", \"country\", \"company\"]]\n",
    "Y = data_for_model[\"budget\"]\n",
    "X = pd.get_dummies(X, columns=[\"genre\", \"rating\", \"country\", \"company\"])\n",
    "X_train, X_test, Y_train, Y_test = train_test_split(X,Y, test_size = 0.3, random_state=seed)"
   ]
  },
  {
   "cell_type": "code",
   "execution_count": 108,
   "id": "comparative-kruger",
   "metadata": {},
   "outputs": [
    {
     "name": "stdout",
     "output_type": "stream",
     "text": [
      "Mean absolute error = 25223448.06\n",
      "Mean squared error = 1166809858634555.8\n",
      "Median absolute error = 18658274.37\n",
      "Explain variance score = 0.59\n",
      "R2 score = 0.59\n"
     ]
    }
   ],
   "source": [
    "import sklearn.metrics as sm\n",
    "\n",
    "X_train, X_test, Y_train, y_test = train_test_split(X,Y, test_size = 0.3, random_state=seed)\n",
    "lm = LinearRegression()\n",
    "lm.fit(X_train, Y_train)\n",
    "prediction = lm.predict(X_test)\n",
    "#lm.score(Y_test, prediction)\n",
    "print(\"Mean absolute error =\", round(sm.mean_absolute_error(y_test, prediction), 2)) \n",
    "print(\"Mean squared error =\", round(sm.mean_squared_error(y_test, prediction), 2)) \n",
    "print(\"Median absolute error =\", round(sm.median_absolute_error(y_test, prediction), 2)) \n",
    "print(\"Explain variance score =\", round(sm.explained_variance_score(y_test, prediction), 2)) \n",
    "print(\"R2 score =\", round(sm.r2_score(y_test, prediction), 2))"
   ]
  },
  {
   "cell_type": "code",
   "execution_count": 109,
   "id": "religious-district",
   "metadata": {},
   "outputs": [
    {
     "data": {
      "image/png": "[encoded data removed]",
      "text/plain": [
       "<Figure size 432x288 with 1 Axes>"
      ]
     },
     "metadata": {
      "needs_background": "light"
     },
     "output_type": "display_data"
    }
   ],
   "source": [
    "plt.scatter(prediction, y_test, c=\"c\", alpha=0.5)\n",
    "plt.title('Prediction vs test')\n",
    "plt.xlabel('prediction')\n",
    "plt.ylabel('y_test')\n",
    "plt.show()"
   ]
  },
  {
   "cell_type": "code",
   "execution_count": 110,
   "id": "cardiovascular-system",
   "metadata": {},
   "outputs": [],
   "source": [
    "X = data_for_model[[\"gross\", \"runtime\", \"year\", \"genre\", \"rating\"]]\n",
    "Y = data_for_model[\"budget\"]\n",
    "X = pd.get_dummies(X, columns=[\"genre\", \"rating\"])\n",
    "X_train, X_test, Y_train, Y_test = train_test_split(X,Y, test_size = 0.3, random_state=seed)"
   ]
  },
  {
   "cell_type": "code",
   "execution_count": 111,
   "id": "returning-highland",
   "metadata": {},
   "outputs": [
    {
     "data": {
      "text/plain": [
       "GradientBoostingRegressor(max_features='auto', n_estimators=10,\n",
       "                          random_state=123)"
      ]
     },
     "execution_count": 111,
     "metadata": {},
     "output_type": "execute_result"
    }
   ],
   "source": [
    "from sklearn.ensemble import GradientBoostingRegressor\n",
    "from sklearn.metrics import mean_squared_error\n",
    "modelo = GradientBoostingRegressor(\n",
    "            n_estimators = 10,\n",
    "            loss         = 'ls',\n",
    "            max_features = 'auto',\n",
    "            random_state = 123\n",
    "         )\n",
    "modelo.fit(X_train, Y_train)"
   ]
  },
  {
   "cell_type": "code",
   "execution_count": 112,
   "id": "nonprofit-departure",
   "metadata": {},
   "outputs": [
    {
     "name": "stdout",
     "output_type": "stream",
     "text": [
      "El error (rmse) de test es: 39284679.13768241\n"
     ]
    }
   ],
   "source": [
    "predicciones = modelo.predict(X = X_test)\n",
    "\n",
    "rmse = mean_squared_error(\n",
    "        y_true  = y_test,\n",
    "        y_pred  = predicciones,\n",
    "        squared = False\n",
    "       )\n",
    "print(f\"El error (rmse) de test es: {rmse}\")\n",
    "from sklearn.metrics import r2_score\n",
    "\n",
    "r_squared = r2_score(y_test, predicciones)\n"
   ]
  },
  {
   "cell_type": "code",
   "execution_count": 113,
   "id": "governing-subscriber",
   "metadata": {},
   "outputs": [
    {
     "data": {
      "text/plain": [
       "0.455959451099198"
      ]
     },
     "execution_count": 113,
     "metadata": {},
     "output_type": "execute_result"
    }
   ],
   "source": [
    "r_squared"
   ]
  },
  {
   "cell_type": "markdown",
   "id": "indian-discipline",
   "metadata": {},
   "source": [
    "Se ha intenado predecir la variable presupuestos, pero el R2 no ha dado una buena medida."
   ]
  },
  {
   "cell_type": "markdown",
   "id": "statistical-franklin",
   "metadata": {},
   "source": [
    "# Directores, actores y compañías"
   ]
  },
  {
   "cell_type": "code",
   "execution_count": 114,
   "id": "happy-worse",
   "metadata": {},
   "outputs": [
    {
     "name": "stdout",
     "output_type": "stream",
     "text": [
      "Media de películas por director: 2.46286329386437\n",
      "Percentil 75 de las películas por director: 3.0\n",
      "\n",
      "Media de películas por actor/actriz: 2.920229738353542\n",
      "Percentil 75 de las películas por actor/actriz: 3.0\n",
      "\n",
      "Media de películas por compañía: 3.5308641975308643\n",
      "Percentil 75 de las películas por compañía: 2.0\n",
      "\n",
      "Media de películas por país: 104.0\n",
      "Percentil 75 de las películas por país: 12.25\n",
      "\n",
      "Número de directores que pasan el sesgo: 536\n",
      "Películas en total para ese sesgo con directores: 2927\n",
      "\n",
      "Número de actores/actrices que pasan el sesgo: 432\n",
      "Películas en total para ese sesgo con actores/actrices: 3227\n",
      "\n",
      "Número de compañías que pasan el sesgo: 31\n",
      "Películas en total para ese sesgo con compañías: 2371\n",
      "\n",
      "Número de países que pasan el sesgo: 8\n",
      "Películas en total para ese sesgo con países: 4413\n",
      "\n"
     ]
    }
   ],
   "source": [
    "\n",
    "limit_director = 3\n",
    "limit_star = 3\n",
    "limit_company = 20\n",
    "limit_country = 20\n",
    "\n",
    "data_directors = create_df_with_freq('director', 'director')\n",
    "data_stars = create_df_with_freq('star', 'actor/actriz')\n",
    "data_companies = create_df_with_freq('company', \"compañía\")\n",
    "data_country = create_df_with_freq('country', \"país\")\n",
    "\n",
    "d1 = create_df_with_restrictions(data_directors, data, director, limit_director, \"directores\")\n",
    "d2 = create_df_with_restrictions(data_stars, data, star, limit_star, \"actores/actrices\")\n",
    "d3 = create_df_with_restrictions(data_companies, data, company, limit_company, \"compañías\")\n",
    "d4 = create_df_with_restrictions(data_country, data, country, limit_country, \"países\")\n",
    "\n",
    "#data_b = d4\n",
    "\n",
    "#print(\"Películas en total: \" + str(len(data_b)))\n",
    "\n",
    "#data_b = data_b.drop_duplicates()\n",
    "#print(\"Películas en total tras eliminar posibles duplicados: \" + str(len(data_b)))"
   ]
  },
  {
   "cell_type": "markdown",
   "id": "economic-joining",
   "metadata": {},
   "source": [
    "### Directores, compañías, países y actores con más películas"
   ]
  },
  {
   "cell_type": "code",
   "execution_count": 115,
   "id": "physical-portsmouth",
   "metadata": {},
   "outputs": [
    {
     "data": {
      "application/vnd.jupyter.widget-view+json": {
       "model_id": "ca5ad0c3f8384e16a38e75af7a066c56",
       "version_major": 2,
       "version_minor": 0
      },
      "text/plain": [
       "interactive(children=(Dropdown(description='Category', options=('Directores', 'Actores/Actrices', 'Países', 'C…"
      ]
     },
     "metadata": {},
     "output_type": "display_data"
    }
   ],
   "source": [
    "def show_datasets(Category):\n",
    "    if(Category == \"Directores\"):\n",
    "          display(data_directors.head(10))\n",
    "    if(Category == \"Actores/Actrices\"):\n",
    "           display(data_stars.head(10))\n",
    "    if(Category == \"Países\"):\n",
    "        display(data_country.head(10))\n",
    "    if(Category == \"Compañías\"):\n",
    "        display(data_companies.head(10))\n",
    "        \n",
    "interact(show_datasets, Category=[\"Directores\", \"Actores/Actrices\", \n",
    "                        \"Países\", \"Compañías\"]);"
   ]
  },
  {
   "cell_type": "code",
   "execution_count": 116,
   "id": "endless-valley",
   "metadata": {},
   "outputs": [],
   "source": [
    "def create_df_with_restrictions2(df_freq, df, category, limit, name):\n",
    "    \n",
    "    df_new = df.copy()   \n",
    "    df_freq.drop(df_freq[df_freq.mean_gross < limit].index, inplace=True)\n",
    "    array_unique = np.unique(df_freq[category]).tolist()\n",
    "    df_new = df_new[df_new[category].isin(array_unique)]\n",
    "    print(\"Número de \" + name + \" que pasan el sesgo: \" + str(len(array_unique)))\n",
    "    print(\"Películas en total para ese sesgo con \" + name + \": \" + str(len(df_new)))\n",
    "    print(\"\")\n",
    "    return df_new"
   ]
  },
  {
   "cell_type": "code",
   "execution_count": 117,
   "id": "differential-software",
   "metadata": {},
   "outputs": [],
   "source": [
    "data_directors[\"mean_gross\"] = 0.0\n",
    "\n",
    "for index, row in data_directors.iterrows():\n",
    "    name_director = row[\"director\"]  \n",
    "    data_directors.at[index,'mean_gross'] = data.loc[data['director'] == name_director, 'gross'].sum()\n",
    "    \n",
    "data_directors[\"mean_gross\"] = data_directors[\"mean_gross\"]/data_directors[\"num_movies\"]\n",
    "\n"
   ]
  },
  {
   "cell_type": "code",
   "execution_count": 118,
   "id": "communist-dancing",
   "metadata": {},
   "outputs": [],
   "source": [
    "limit = data_directors[\"mean_gross\"].quantile(0.5)"
   ]
  },
  {
   "cell_type": "code",
   "execution_count": 119,
   "id": "broadband-manchester",
   "metadata": {},
   "outputs": [
    {
     "name": "stdout",
     "output_type": "stream",
     "text": [
      "Número de directores que pasan el sesgo: 268\n",
      "Películas en total para ese sesgo con directores: 1668\n",
      "\n"
     ]
    }
   ],
   "source": [
    "subset_directors = create_df_with_restrictions2(data_directors, data, director, limit, \"directores\")"
   ]
  },
  {
   "cell_type": "code",
   "execution_count": 120,
   "id": "unauthorized-candidate",
   "metadata": {},
   "outputs": [],
   "source": [
    "per_direct = round(len(np.unique(subset_directors[director])) *100/len(np.unique(data[director])),2)\n",
    "per_movies = round(len(subset_directors)*100/len(data),2)"
   ]
  },
  {
   "cell_type": "code",
   "execution_count": 121,
   "id": "suspended-dutch",
   "metadata": {},
   "outputs": [
    {
     "name": "stdout",
     "output_type": "stream",
     "text": [
      "El 14.42% de los directores dirige el 36.45% de las películas.\n"
     ]
    }
   ],
   "source": [
    "print(\"El \" + str(per_direct) + \"% de los directores dirige el \" \n",
    "      +str(per_movies) + \"% de las películas.\")"
   ]
  },
  {
   "cell_type": "code",
   "execution_count": 122,
   "id": "broken-lindsay",
   "metadata": {},
   "outputs": [
    {
     "name": "stdout",
     "output_type": "stream",
     "text": [
      "Número de actores/actrices que pasan el sesgo: 216\n",
      "Películas en total para ese sesgo con actores/actrices: 2016\n",
      "\n"
     ]
    }
   ],
   "source": [
    "data_stars[\"mean_gross\"] = 0.0\n",
    "\n",
    "for index, row in data_stars.iterrows():\n",
    "    name_star = row[\"star\"]  \n",
    "    data_stars.at[index,'mean_gross'] = data.loc[data['star'] == name_star, 'gross'].sum()\n",
    "    \n",
    "data_stars[\"mean_gross\"] = data_stars[\"mean_gross\"]/data_stars[\"num_movies\"]\n",
    "limit = data_stars[\"mean_gross\"].quantile(0.5)\n",
    "subset_stars = create_df_with_restrictions2(data_stars, data, star, limit, \"actores/actrices\")"
   ]
  },
  {
   "cell_type": "code",
   "execution_count": 123,
   "id": "acquired-vegetation",
   "metadata": {},
   "outputs": [
    {
     "name": "stdout",
     "output_type": "stream",
     "text": [
      "El 13.78% de los actores/actrices protagoniza el 44.06% de las películas.\n"
     ]
    }
   ],
   "source": [
    "per_direct = round(len(np.unique(subset_stars[star])) *100/len(np.unique(data[star])),2)\n",
    "per_movies = round(len(subset_stars)*100/len(data),2)\n",
    "print(\"El \" + str(per_direct) + \"% de los actores/actrices protagoniza el \" \n",
    "      +str(per_movies) + \"% de las películas.\")"
   ]
  },
  {
   "cell_type": "code",
   "execution_count": 124,
   "id": "convenient-ordinance",
   "metadata": {},
   "outputs": [
    {
     "name": "stdout",
     "output_type": "stream",
     "text": [
      "Número de compañías que pasan el sesgo: 16\n",
      "Películas en total para ese sesgo con compañías: 1804\n",
      "\n",
      "El 1.23% de las compañías produce el 39.42% de las películas.\n"
     ]
    }
   ],
   "source": [
    "data_companies[\"mean_gross\"] = 0.0\n",
    "\n",
    "for index, row in data_companies.iterrows():\n",
    "    name_companies = row[\"company\"]  \n",
    "    data_companies.at[index,'mean_gross'] = data.loc[data['company'] == name_companies, 'gross'].sum()\n",
    "    \n",
    "data_companies[\"mean_gross\"] = data_companies[\"mean_gross\"]/data_companies[\"num_movies\"]\n",
    "limit = data_companies[\"mean_gross\"].quantile(0.5)\n",
    "subset_companies = create_df_with_restrictions2(data_companies, data, company, limit, \"compañías\")\n",
    "\n",
    "per_direct = round(len(np.unique(subset_companies[company])) *100/len(np.unique(data[company])),2)\n",
    "per_movies = round(len(subset_companies)*100/len(data),2)\n",
    "print(\"El \" + str(per_direct) + \"% de las compañías produce el \" \n",
    "      +str(per_movies) + \"% de las películas.\")"
   ]
  },
  {
   "cell_type": "code",
   "execution_count": 125,
   "id": "graduate-venice",
   "metadata": {},
   "outputs": [
    {
     "name": "stdout",
     "output_type": "stream",
     "text": [
      "Número de países que pasan el sesgo: 4\n",
      "Películas en total para ese sesgo con países: 4121\n",
      "\n",
      "El 9.09% de los países produce el 90.06% de las películas.\n"
     ]
    }
   ],
   "source": [
    "data_country[\"mean_gross\"] = 0.0\n",
    "\n",
    "for index, row in data_country.iterrows():\n",
    "    name_companies = row[\"country\"]  \n",
    "    data_country.at[index,'mean_gross'] = data.loc[data['country'] == name_companies, 'gross'].sum()\n",
    "    \n",
    "data_country[\"mean_gross\"] = data_country[\"mean_gross\"]/data_country[\"num_movies\"]\n",
    "limit = data_country[\"mean_gross\"].quantile(0.5)\n",
    "subset_country = create_df_with_restrictions2(data_country, data, country, limit, \"países\")\n",
    "\n",
    "per_direct = round(len(np.unique(subset_country[country])) *100/len(np.unique(data[country])),2)\n",
    "per_movies = round(len(subset_country)*100/len(data),2)\n",
    "print(\"El \" + str(per_direct) + \"% de los países produce el \" \n",
    "      +str(per_movies) + \"% de las películas.\")"
   ]
  },
  {
   "cell_type": "code",
   "execution_count": 126,
   "id": "consecutive-danger",
   "metadata": {},
   "outputs": [
    {
     "data": {
      "text/plain": [
       "268"
      ]
     },
     "execution_count": 126,
     "metadata": {},
     "output_type": "execute_result"
    }
   ],
   "source": [
    "len(np.unique(subset_directors[director]))"
   ]
  },
  {
   "cell_type": "code",
   "execution_count": 127,
   "id": "informed-fabric",
   "metadata": {},
   "outputs": [
    {
     "name": "stdout",
     "output_type": "stream",
     "text": [
      "0.0015081905849246653\n",
      "\u001b[1mEl p-valor es inferior a 0.05 y, por tanto, rechazamos la hipótesis nula. Las dos variables analizadas no son independientes. Podemos afirmar que hay relación entre ellas.\u001b[0m\n"
     ]
    }
   ],
   "source": [
    "bins, names_biding_profits = data_binding_quantiles(subset_directors, k_quantile, profits)\n",
    "subset_directors[profits_binding] = pd.cut(subset_directors[profits], bins, labels=names_biding_profits)\n",
    "\n",
    "bins, names_biding_gross = data_binding_quantiles(subset_directors, k_quantile, gross)\n",
    "subset_directors[gross_binding] = pd.cut(subset_directors[gross], bins, labels=names_biding_gross)\n",
    "\n",
    "bins, names_biding_budget = data_binding_quantiles(subset_directors, k_quantile, budget)\n",
    "subset_directors[budget_binding] = pd.cut(subset_directors[budget], bins, labels=names_biding_budget)\n",
    "\n",
    "cont_table_gross_directors, cont_table_gross_directors_p = create_crosstab(subset_directors, director, gross_binding)\n",
    "test_chi(cont_table_gross_directors)"
   ]
  },
  {
   "cell_type": "code",
   "execution_count": 128,
   "id": "southwest-relay",
   "metadata": {},
   "outputs": [
    {
     "data": {
      "application/vnd.jupyter.widget-view+json": {
       "model_id": "86b7e066600045469a2df11797ce27ef",
       "version_major": 2,
       "version_minor": 0
      },
      "text/plain": [
       "interactive(children=(Dropdown(description='Tabla', options=('Tabla de contingencia', 'Películas por clasifica…"
      ]
     },
     "metadata": {},
     "output_type": "display_data"
    }
   ],
   "source": [
    "\n",
    "def show_crosstab_tables_directors(Tabla):\n",
    "    if(Tabla == \"Tabla de contingencia\"):\n",
    "        print(BOLD+\"Tabla de contingencia:\"+END_BOLD)\n",
    "        display(cont_table_gross_directors)\n",
    "    \n",
    "    if(Tabla == \"Películas por clasificación\"):\n",
    "        print(BOLD+\"\\nPelículas por clasificación:\"+END_BOLD)\n",
    "        print(cont_table_gross_directors.sum(axis=1))\n",
    "    \n",
    "    if(Tabla == \"Películas por intervalo\"):\n",
    "        print(BOLD+\"\\nPelículas por intervalo:\"+END_BOLD)\n",
    "        print(cont_table_gross_directors.sum(axis=0))\n",
    "    \n",
    "    if(Tabla == \"Tabla de contingencia con probabilidades\"):\n",
    "        print(BOLD+\"\\nTabla de contingencia con probabilidades:\"+END_BOLD)\n",
    "        display(cont_table_gross_directors_p)\n",
    "        \n",
    "interact(show_crosstab_tables_directors, Tabla=[\"Tabla de contingencia\", \"Películas por clasificación\", \n",
    "                        \"Películas por intervalo\", \"Tabla de contingencia con probabilidades\"]);"
   ]
  },
  {
   "cell_type": "code",
   "execution_count": 129,
   "id": "italian-richardson",
   "metadata": {},
   "outputs": [
    {
     "data": {
      "application/vnd.jupyter.widget-view+json": {
       "model_id": "00f628bda2014c12aeb62838a45ed003",
       "version_major": 2,
       "version_minor": 0
      },
      "text/plain": [
       "interactive(children=(Dropdown(description='Director', options=('Adam McKay', 'Adam Shankman', 'Adrian Lyne', …"
      ]
     },
     "metadata": {},
     "output_type": "display_data"
    }
   ],
   "source": [
    "def show_prob_director_gross(Director, Interval):\n",
    "    prob = cont_table_gross_directors_p[Interval][Director]\n",
    "    prob = round(prob,2)\n",
    "    prob = prob*100\n",
    "    print(BOLD+\"\\nProbability: \"+str(prob)+\"%\"+END_BOLD)\n",
    "    \n",
    "dirs = np.unique(subset_directors[director])\n",
    "\n",
    "\n",
    "interact(show_prob_director_gross, Director=dirs, Interval=cont_table_gross_directors_p.columns.values.tolist());"
   ]
  }
 ],
 "metadata": {
  "kernelspec": {
   "display_name": "Python 3",
   "language": "python",
   "name": "python3"
  },
  "language_info": {
   "codemirror_mode": {
    "name": "ipython",
    "version": 3
   },
   "file_extension": ".py",
   "mimetype": "text/x-python",
   "name": "python",
   "nbconvert_exporter": "python",
   "pygments_lexer": "ipython3",
   "version": "3.8.5"
  }
 },
 "nbformat": 4,
 "nbformat_minor": 5
}
